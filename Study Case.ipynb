{
 "cells": [
  {
   "cell_type": "markdown",
   "id": "12d37b45",
   "metadata": {},
   "source": [
    "# Exploration"
   ]
  },
  {
   "cell_type": "markdown",
   "id": "0b4d93a5",
   "metadata": {},
   "source": [
    "## Loading"
   ]
  },
  {
   "cell_type": "code",
   "execution_count": 1,
   "id": "9463dc6c",
   "metadata": {
    "ExecuteTime": {
     "end_time": "2023-04-21T14:10:54.346774Z",
     "start_time": "2023-04-21T14:10:51.307726Z"
    },
    "tags": [
     "hide-input"
    ]
   },
   "outputs": [],
   "source": [
    "import pandas as pd\n",
    "import numpy as np\n",
    "import matplotlib.pyplot as plt\n",
    "import datetime\n",
    "import random "
   ]
  },
  {
   "cell_type": "code",
   "execution_count": 2,
   "id": "d9ee860d",
   "metadata": {
    "ExecuteTime": {
     "end_time": "2023-04-21T14:10:57.069791Z",
     "start_time": "2023-04-21T14:10:54.350354Z"
    },
    "tags": [
     "remove-input"
    ]
   },
   "outputs": [
    {
     "name": "stdout",
     "output_type": "stream",
     "text": [
      "Les données\n"
     ]
    },
    {
     "data": {
      "text/html": [
       "<div>\n",
       "<style scoped>\n",
       "    .dataframe tbody tr th:only-of-type {\n",
       "        vertical-align: middle;\n",
       "    }\n",
       "\n",
       "    .dataframe tbody tr th {\n",
       "        vertical-align: top;\n",
       "    }\n",
       "\n",
       "    .dataframe thead th {\n",
       "        text-align: right;\n",
       "    }\n",
       "</style>\n",
       "<table border=\"1\" class=\"dataframe\">\n",
       "  <thead>\n",
       "    <tr style=\"text-align: right;\">\n",
       "      <th></th>\n",
       "      <th>Fluid</th>\n",
       "      <th>Date</th>\n",
       "      <th>Power</th>\n",
       "      <th>Meter_ID</th>\n",
       "    </tr>\n",
       "  </thead>\n",
       "  <tbody>\n",
       "    <tr>\n",
       "      <th>0</th>\n",
       "      <td>Electricity</td>\n",
       "      <td>2022-03-23 00:00:00</td>\n",
       "      <td>165</td>\n",
       "      <td>F</td>\n",
       "    </tr>\n",
       "    <tr>\n",
       "      <th>1</th>\n",
       "      <td>Electricity</td>\n",
       "      <td>2022-03-23 00:10:00</td>\n",
       "      <td>168</td>\n",
       "      <td>F</td>\n",
       "    </tr>\n",
       "    <tr>\n",
       "      <th>2</th>\n",
       "      <td>Electricity</td>\n",
       "      <td>2022-03-23 00:20:00</td>\n",
       "      <td>170</td>\n",
       "      <td>F</td>\n",
       "    </tr>\n",
       "    <tr>\n",
       "      <th>3</th>\n",
       "      <td>Electricity</td>\n",
       "      <td>2022-03-23 00:30:00</td>\n",
       "      <td>166</td>\n",
       "      <td>F</td>\n",
       "    </tr>\n",
       "    <tr>\n",
       "      <th>4</th>\n",
       "      <td>Electricity</td>\n",
       "      <td>2022-03-23 00:40:00</td>\n",
       "      <td>97</td>\n",
       "      <td>F</td>\n",
       "    </tr>\n",
       "  </tbody>\n",
       "</table>\n",
       "</div>"
      ],
      "text/plain": [
       "         Fluid                Date  Power Meter_ID\n",
       "0  Electricity 2022-03-23 00:00:00    165        F\n",
       "1  Electricity 2022-03-23 00:10:00    168        F\n",
       "2  Electricity 2022-03-23 00:20:00    170        F\n",
       "3  Electricity 2022-03-23 00:30:00    166        F\n",
       "4  Electricity 2022-03-23 00:40:00     97        F"
      ]
     },
     "execution_count": 2,
     "metadata": {},
     "output_type": "execute_result"
    }
   ],
   "source": [
    "charges = pd.read_csv(\"Courbes de charge_optis.csv\",sep=\";\")\n",
    "charges[\"Date\"]=pd.to_datetime(charges[\"Date\"],format=\"%d/%m/%Y %H:%M\")\n",
    "print(\"Les données\")\n",
    "charges.head(5)"
   ]
  },
  {
   "cell_type": "code",
   "execution_count": 3,
   "id": "a8b3e498",
   "metadata": {
    "ExecuteTime": {
     "end_time": "2023-04-21T14:10:57.675758Z",
     "start_time": "2023-04-21T14:10:57.095948Z"
    },
    "tags": [
     "remove-input"
    ]
   },
   "outputs": [
    {
     "name": "stdout",
     "output_type": "stream",
     "text": [
      "L'excel de rendu\n"
     ]
    },
    {
     "data": {
      "text/html": [
       "<div>\n",
       "<style scoped>\n",
       "    .dataframe tbody tr th:only-of-type {\n",
       "        vertical-align: middle;\n",
       "    }\n",
       "\n",
       "    .dataframe tbody tr th {\n",
       "        vertical-align: top;\n",
       "    }\n",
       "\n",
       "    .dataframe thead th {\n",
       "        text-align: right;\n",
       "    }\n",
       "</style>\n",
       "<table border=\"1\" class=\"dataframe\">\n",
       "  <thead>\n",
       "    <tr style=\"text-align: right;\">\n",
       "      <th></th>\n",
       "      <th>Code postal</th>\n",
       "      <th>Date de début</th>\n",
       "      <th>Date de fin</th>\n",
       "      <th>Actuel : tarif</th>\n",
       "      <th>Actuel : Facture glissante (€ HT)</th>\n",
       "      <th>Actuel : Puissance souscrite POINTE</th>\n",
       "      <th>Puissance souscrite hph actuelle (kVA C4 / kW C3-C1)</th>\n",
       "      <th>Puissance souscrite hch actuelle (kVA C4 / kW C3-C1)</th>\n",
       "      <th>Puissance souscrite hpe actuelle (kVA C4 / kW C3-C1)</th>\n",
       "      <th>Puissance souscrite hce actuelle (kVA C4 / kW C3-C1)</th>\n",
       "      <th>...</th>\n",
       "      <th>Consommation kwh hph réelle</th>\n",
       "      <th>Actuel : Consommation POINTE (kWh)</th>\n",
       "      <th>Préconisation : tarif</th>\n",
       "      <th>Préconisation : Facture glissante (€ HT)</th>\n",
       "      <th>Puissance souscrite pointe optimisée (kVA C4 / kW C3-C1)</th>\n",
       "      <th>Puissance souscrite hph optimisée (kVA C4 / kW C3-C1)</th>\n",
       "      <th>Puissance souscrite hch optimisée (kVA C4 / kW C3-C1)</th>\n",
       "      <th>Puissance souscrite hpe optimisée (kVA C4 / kW C3-C1)</th>\n",
       "      <th>Puissance souscrite hce optimisée (kVA C4 / kW C3-C1)</th>\n",
       "      <th>Gains euros</th>\n",
       "    </tr>\n",
       "    <tr>\n",
       "      <th>meter_id</th>\n",
       "      <th></th>\n",
       "      <th></th>\n",
       "      <th></th>\n",
       "      <th></th>\n",
       "      <th></th>\n",
       "      <th></th>\n",
       "      <th></th>\n",
       "      <th></th>\n",
       "      <th></th>\n",
       "      <th></th>\n",
       "      <th></th>\n",
       "      <th></th>\n",
       "      <th></th>\n",
       "      <th></th>\n",
       "      <th></th>\n",
       "      <th></th>\n",
       "      <th></th>\n",
       "      <th></th>\n",
       "      <th></th>\n",
       "      <th></th>\n",
       "      <th></th>\n",
       "    </tr>\n",
       "  </thead>\n",
       "  <tbody>\n",
       "    <tr>\n",
       "      <th>B</th>\n",
       "      <td>39015</td>\n",
       "      <td>NaN</td>\n",
       "      <td>NaN</td>\n",
       "      <td>HTA pointe fixe LU</td>\n",
       "      <td>NaN</td>\n",
       "      <td>500</td>\n",
       "      <td>500</td>\n",
       "      <td>500</td>\n",
       "      <td>500</td>\n",
       "      <td>500</td>\n",
       "      <td>...</td>\n",
       "      <td>NaN</td>\n",
       "      <td>NaN</td>\n",
       "      <td>NaN</td>\n",
       "      <td>NaN</td>\n",
       "      <td>NaN</td>\n",
       "      <td>NaN</td>\n",
       "      <td>NaN</td>\n",
       "      <td>NaN</td>\n",
       "      <td>NaN</td>\n",
       "      <td>NaN</td>\n",
       "    </tr>\n",
       "    <tr>\n",
       "      <th>D</th>\n",
       "      <td>58220</td>\n",
       "      <td>NaN</td>\n",
       "      <td>NaN</td>\n",
       "      <td>HTA pointe fixe LU</td>\n",
       "      <td>NaN</td>\n",
       "      <td>130</td>\n",
       "      <td>130</td>\n",
       "      <td>130</td>\n",
       "      <td>130</td>\n",
       "      <td>130</td>\n",
       "      <td>...</td>\n",
       "      <td>NaN</td>\n",
       "      <td>NaN</td>\n",
       "      <td>NaN</td>\n",
       "      <td>NaN</td>\n",
       "      <td>NaN</td>\n",
       "      <td>NaN</td>\n",
       "      <td>NaN</td>\n",
       "      <td>NaN</td>\n",
       "      <td>NaN</td>\n",
       "      <td>NaN</td>\n",
       "    </tr>\n",
       "    <tr>\n",
       "      <th>A</th>\n",
       "      <td>58000</td>\n",
       "      <td>NaN</td>\n",
       "      <td>NaN</td>\n",
       "      <td>HTA pointe fixe LU</td>\n",
       "      <td>NaN</td>\n",
       "      <td>1530</td>\n",
       "      <td>1530</td>\n",
       "      <td>1530</td>\n",
       "      <td>1710</td>\n",
       "      <td>1710</td>\n",
       "      <td>...</td>\n",
       "      <td>NaN</td>\n",
       "      <td>NaN</td>\n",
       "      <td>NaN</td>\n",
       "      <td>NaN</td>\n",
       "      <td>NaN</td>\n",
       "      <td>NaN</td>\n",
       "      <td>NaN</td>\n",
       "      <td>NaN</td>\n",
       "      <td>NaN</td>\n",
       "      <td>NaN</td>\n",
       "    </tr>\n",
       "    <tr>\n",
       "      <th>G</th>\n",
       "      <td>25600</td>\n",
       "      <td>NaN</td>\n",
       "      <td>NaN</td>\n",
       "      <td>HTA pointe fixe LU</td>\n",
       "      <td>NaN</td>\n",
       "      <td>300</td>\n",
       "      <td>300</td>\n",
       "      <td>300</td>\n",
       "      <td>300</td>\n",
       "      <td>300</td>\n",
       "      <td>...</td>\n",
       "      <td>NaN</td>\n",
       "      <td>NaN</td>\n",
       "      <td>NaN</td>\n",
       "      <td>NaN</td>\n",
       "      <td>NaN</td>\n",
       "      <td>NaN</td>\n",
       "      <td>NaN</td>\n",
       "      <td>NaN</td>\n",
       "      <td>NaN</td>\n",
       "      <td>NaN</td>\n",
       "    </tr>\n",
       "    <tr>\n",
       "      <th>C</th>\n",
       "      <td>58230</td>\n",
       "      <td>NaN</td>\n",
       "      <td>NaN</td>\n",
       "      <td>HTA pointe fixe CU</td>\n",
       "      <td>NaN</td>\n",
       "      <td>61</td>\n",
       "      <td>61</td>\n",
       "      <td>61</td>\n",
       "      <td>61</td>\n",
       "      <td>61</td>\n",
       "      <td>...</td>\n",
       "      <td>NaN</td>\n",
       "      <td>NaN</td>\n",
       "      <td>NaN</td>\n",
       "      <td>NaN</td>\n",
       "      <td>NaN</td>\n",
       "      <td>NaN</td>\n",
       "      <td>NaN</td>\n",
       "      <td>NaN</td>\n",
       "      <td>NaN</td>\n",
       "      <td>NaN</td>\n",
       "    </tr>\n",
       "    <tr>\n",
       "      <th>E</th>\n",
       "      <td>25290</td>\n",
       "      <td>NaN</td>\n",
       "      <td>NaN</td>\n",
       "      <td>HTA pointe fixe CU</td>\n",
       "      <td>NaN</td>\n",
       "      <td>123</td>\n",
       "      <td>123</td>\n",
       "      <td>350</td>\n",
       "      <td>350</td>\n",
       "      <td>350</td>\n",
       "      <td>...</td>\n",
       "      <td>NaN</td>\n",
       "      <td>NaN</td>\n",
       "      <td>NaN</td>\n",
       "      <td>NaN</td>\n",
       "      <td>NaN</td>\n",
       "      <td>NaN</td>\n",
       "      <td>NaN</td>\n",
       "      <td>NaN</td>\n",
       "      <td>NaN</td>\n",
       "      <td>NaN</td>\n",
       "    </tr>\n",
       "    <tr>\n",
       "      <th>F</th>\n",
       "      <td>90000</td>\n",
       "      <td>NaN</td>\n",
       "      <td>NaN</td>\n",
       "      <td>HTA pointe fixe LU</td>\n",
       "      <td>NaN</td>\n",
       "      <td>66</td>\n",
       "      <td>410</td>\n",
       "      <td>410</td>\n",
       "      <td>410</td>\n",
       "      <td>410</td>\n",
       "      <td>...</td>\n",
       "      <td>NaN</td>\n",
       "      <td>NaN</td>\n",
       "      <td>NaN</td>\n",
       "      <td>NaN</td>\n",
       "      <td>NaN</td>\n",
       "      <td>NaN</td>\n",
       "      <td>NaN</td>\n",
       "      <td>NaN</td>\n",
       "      <td>NaN</td>\n",
       "      <td>NaN</td>\n",
       "    </tr>\n",
       "  </tbody>\n",
       "</table>\n",
       "<p>7 rows × 28 columns</p>\n",
       "</div>"
      ],
      "text/plain": [
       "          Code postal  Date de début  Date de fin      Actuel : tarif  \\\n",
       "meter_id                                                                \n",
       "B               39015            NaN          NaN  HTA pointe fixe LU   \n",
       "D               58220            NaN          NaN  HTA pointe fixe LU   \n",
       "A               58000            NaN          NaN  HTA pointe fixe LU   \n",
       "G               25600            NaN          NaN  HTA pointe fixe LU   \n",
       "C               58230            NaN          NaN  HTA pointe fixe CU   \n",
       "E               25290            NaN          NaN  HTA pointe fixe CU   \n",
       "F               90000            NaN          NaN  HTA pointe fixe LU   \n",
       "\n",
       "          Actuel : Facture glissante (€ HT)  \\\n",
       "meter_id                                      \n",
       "B                                       NaN   \n",
       "D                                       NaN   \n",
       "A                                       NaN   \n",
       "G                                       NaN   \n",
       "C                                       NaN   \n",
       "E                                       NaN   \n",
       "F                                       NaN   \n",
       "\n",
       "          Actuel : Puissance souscrite POINTE  \\\n",
       "meter_id                                        \n",
       "B                                         500   \n",
       "D                                         130   \n",
       "A                                        1530   \n",
       "G                                         300   \n",
       "C                                          61   \n",
       "E                                         123   \n",
       "F                                          66   \n",
       "\n",
       "          Puissance souscrite hph actuelle (kVA C4 / kW C3-C1)  \\\n",
       "meter_id                                                         \n",
       "B                                                       500      \n",
       "D                                                       130      \n",
       "A                                                      1530      \n",
       "G                                                       300      \n",
       "C                                                        61      \n",
       "E                                                       123      \n",
       "F                                                       410      \n",
       "\n",
       "          Puissance souscrite hch actuelle (kVA C4 / kW C3-C1)  \\\n",
       "meter_id                                                         \n",
       "B                                                       500      \n",
       "D                                                       130      \n",
       "A                                                      1530      \n",
       "G                                                       300      \n",
       "C                                                        61      \n",
       "E                                                       350      \n",
       "F                                                       410      \n",
       "\n",
       "          Puissance souscrite hpe actuelle (kVA C4 / kW C3-C1)  \\\n",
       "meter_id                                                         \n",
       "B                                                       500      \n",
       "D                                                       130      \n",
       "A                                                      1710      \n",
       "G                                                       300      \n",
       "C                                                        61      \n",
       "E                                                       350      \n",
       "F                                                       410      \n",
       "\n",
       "          Puissance souscrite hce actuelle (kVA C4 / kW C3-C1)  ...  \\\n",
       "meter_id                                                        ...   \n",
       "B                                                       500     ...   \n",
       "D                                                       130     ...   \n",
       "A                                                      1710     ...   \n",
       "G                                                       300     ...   \n",
       "C                                                        61     ...   \n",
       "E                                                       350     ...   \n",
       "F                                                       410     ...   \n",
       "\n",
       "          Consommation kwh hph réelle  Actuel : Consommation POINTE (kWh)  \\\n",
       "meter_id                                                                    \n",
       "B                                 NaN                                 NaN   \n",
       "D                                 NaN                                 NaN   \n",
       "A                                 NaN                                 NaN   \n",
       "G                                 NaN                                 NaN   \n",
       "C                                 NaN                                 NaN   \n",
       "E                                 NaN                                 NaN   \n",
       "F                                 NaN                                 NaN   \n",
       "\n",
       "          Préconisation : tarif  Préconisation : Facture glissante (€ HT)  \\\n",
       "meter_id                                                                    \n",
       "B                           NaN                                       NaN   \n",
       "D                           NaN                                       NaN   \n",
       "A                           NaN                                       NaN   \n",
       "G                           NaN                                       NaN   \n",
       "C                           NaN                                       NaN   \n",
       "E                           NaN                                       NaN   \n",
       "F                           NaN                                       NaN   \n",
       "\n",
       "          Puissance souscrite pointe optimisée (kVA C4 / kW C3-C1)  \\\n",
       "meter_id                                                             \n",
       "B                                                       NaN          \n",
       "D                                                       NaN          \n",
       "A                                                       NaN          \n",
       "G                                                       NaN          \n",
       "C                                                       NaN          \n",
       "E                                                       NaN          \n",
       "F                                                       NaN          \n",
       "\n",
       "          Puissance souscrite hph optimisée (kVA C4 / kW C3-C1)  \\\n",
       "meter_id                                                          \n",
       "B                                                       NaN       \n",
       "D                                                       NaN       \n",
       "A                                                       NaN       \n",
       "G                                                       NaN       \n",
       "C                                                       NaN       \n",
       "E                                                       NaN       \n",
       "F                                                       NaN       \n",
       "\n",
       "          Puissance souscrite hch optimisée (kVA C4 / kW C3-C1)  \\\n",
       "meter_id                                                          \n",
       "B                                                       NaN       \n",
       "D                                                       NaN       \n",
       "A                                                       NaN       \n",
       "G                                                       NaN       \n",
       "C                                                       NaN       \n",
       "E                                                       NaN       \n",
       "F                                                       NaN       \n",
       "\n",
       "          Puissance souscrite hpe optimisée (kVA C4 / kW C3-C1)  \\\n",
       "meter_id                                                          \n",
       "B                                                       NaN       \n",
       "D                                                       NaN       \n",
       "A                                                       NaN       \n",
       "G                                                       NaN       \n",
       "C                                                       NaN       \n",
       "E                                                       NaN       \n",
       "F                                                       NaN       \n",
       "\n",
       "          Puissance souscrite hce optimisée (kVA C4 / kW C3-C1)  Gains euros  \n",
       "meter_id                                                                      \n",
       "B                                                       NaN              NaN  \n",
       "D                                                       NaN              NaN  \n",
       "A                                                       NaN              NaN  \n",
       "G                                                       NaN              NaN  \n",
       "C                                                       NaN              NaN  \n",
       "E                                                       NaN              NaN  \n",
       "F                                                       NaN              NaN  \n",
       "\n",
       "[7 rows x 28 columns]"
      ]
     },
     "execution_count": 3,
     "metadata": {},
     "output_type": "execute_result"
    }
   ],
   "source": [
    "res = pd.read_excel(\"Template_resultats.xlsx\")\n",
    "res.set_index(\"meter_id\",drop=True,inplace=True)\n",
    "print(\"L'excel de rendu\")\n",
    "res"
   ]
  },
  {
   "cell_type": "markdown",
   "id": "2933020c",
   "metadata": {},
   "source": [
    "Ajouter les dates de débuts et de fin des compteurs"
   ]
  },
  {
   "cell_type": "code",
   "execution_count": 4,
   "id": "14f40af2",
   "metadata": {
    "ExecuteTime": {
     "end_time": "2023-04-21T14:10:58.260890Z",
     "start_time": "2023-04-21T14:10:57.690022Z"
    },
    "tags": [
     "hide-input"
    ]
   },
   "outputs": [
    {
     "data": {
      "text/html": [
       "<div>\n",
       "<style scoped>\n",
       "    .dataframe tbody tr th:only-of-type {\n",
       "        vertical-align: middle;\n",
       "    }\n",
       "\n",
       "    .dataframe tbody tr th {\n",
       "        vertical-align: top;\n",
       "    }\n",
       "\n",
       "    .dataframe thead th {\n",
       "        text-align: right;\n",
       "    }\n",
       "</style>\n",
       "<table border=\"1\" class=\"dataframe\">\n",
       "  <thead>\n",
       "    <tr style=\"text-align: right;\">\n",
       "      <th></th>\n",
       "      <th>Date de début</th>\n",
       "      <th>Date de fin</th>\n",
       "    </tr>\n",
       "    <tr>\n",
       "      <th>meter_id</th>\n",
       "      <th></th>\n",
       "      <th></th>\n",
       "    </tr>\n",
       "  </thead>\n",
       "  <tbody>\n",
       "    <tr>\n",
       "      <th>B</th>\n",
       "      <td>2022-03-23 00:00:00</td>\n",
       "      <td>2023-02-23 23:50:00</td>\n",
       "    </tr>\n",
       "    <tr>\n",
       "      <th>D</th>\n",
       "      <td>2022-03-23 00:00:00</td>\n",
       "      <td>2023-02-23 23:50:00</td>\n",
       "    </tr>\n",
       "    <tr>\n",
       "      <th>A</th>\n",
       "      <td>2022-03-23 00:00:00</td>\n",
       "      <td>2023-02-23 23:50:00</td>\n",
       "    </tr>\n",
       "    <tr>\n",
       "      <th>G</th>\n",
       "      <td>2022-03-23 00:00:00</td>\n",
       "      <td>2023-02-23 23:50:00</td>\n",
       "    </tr>\n",
       "    <tr>\n",
       "      <th>C</th>\n",
       "      <td>2022-03-23 00:00:00</td>\n",
       "      <td>2023-02-23 23:50:00</td>\n",
       "    </tr>\n",
       "    <tr>\n",
       "      <th>E</th>\n",
       "      <td>2022-03-23 00:00:00</td>\n",
       "      <td>2023-02-23 23:50:00</td>\n",
       "    </tr>\n",
       "    <tr>\n",
       "      <th>F</th>\n",
       "      <td>2022-03-23 00:00:00</td>\n",
       "      <td>2023-02-23 23:50:00</td>\n",
       "    </tr>\n",
       "  </tbody>\n",
       "</table>\n",
       "</div>"
      ],
      "text/plain": [
       "                Date de début          Date de fin\n",
       "meter_id                                          \n",
       "B         2022-03-23 00:00:00  2023-02-23 23:50:00\n",
       "D         2022-03-23 00:00:00  2023-02-23 23:50:00\n",
       "A         2022-03-23 00:00:00  2023-02-23 23:50:00\n",
       "G         2022-03-23 00:00:00  2023-02-23 23:50:00\n",
       "C         2022-03-23 00:00:00  2023-02-23 23:50:00\n",
       "E         2022-03-23 00:00:00  2023-02-23 23:50:00\n",
       "F         2022-03-23 00:00:00  2023-02-23 23:50:00"
      ]
     },
     "execution_count": 4,
     "metadata": {},
     "output_type": "execute_result"
    }
   ],
   "source": [
    "def update_date(res=res,meter_id=\"A\"):\n",
    "    #\n",
    "    temp = charges[charges[\"Meter_ID\"]==meter_id].sort_values(by=\"Date\")\n",
    "    res.loc[meter_id,\"Date de début\"]=temp.iloc[0].loc[\"Date\"]\n",
    "    res.loc[meter_id,\"Date de fin\"]=temp.iloc[-1].loc[\"Date\"]\n",
    "    \n",
    "for letter in res.index:\n",
    "    update_date(meter_id=letter)\n",
    "res.loc[:,[\"Date de début\",\"Date de fin\"]]"
   ]
  },
  {
   "cell_type": "markdown",
   "id": "2dc5af9d",
   "metadata": {},
   "source": [
    "## Differents profils"
   ]
  },
  {
   "cell_type": "markdown",
   "id": "8c5db2a2",
   "metadata": {},
   "source": [
    "![alt text](images/profils.png \"Title\")\n"
   ]
  },
  {
   "cell_type": "markdown",
   "id": "5e2d848f",
   "metadata": {
    "ExecuteTime": {
     "end_time": "2023-04-21T10:37:23.468832Z",
     "start_time": "2023-04-21T10:37:21.819761Z"
    }
   },
   "source": [
    "Jetons un coup d'oeil aux différents profils de compteur que nous avons"
   ]
  },
  {
   "cell_type": "code",
   "execution_count": 5,
   "id": "ebff7fa2",
   "metadata": {
    "ExecuteTime": {
     "end_time": "2023-04-21T14:10:58.742799Z",
     "start_time": "2023-04-21T14:10:58.280887Z"
    },
    "tags": [
     "remove-input"
    ]
   },
   "outputs": [
    {
     "data": {
      "image/png": "[encoded data removed]",
      "text/plain": [
       "<Figure size 432x288 with 1 Axes>"
      ]
     },
     "metadata": {
      "needs_background": "light"
     },
     "output_type": "display_data"
    }
   ],
   "source": [
    "temp = charges[charges[\"Meter_ID\"]==\"B\"].sort_values(by=\"Date\")\n",
    "plt.plot(temp[\"Power\"])\n",
    "plt.ylabel(\"Power\")\n",
    "plt.xticks([])\n",
    "plt.xlabel(\"1 ans\")\n",
    "plt.title(\"compteur 'B' : HTA Pointe fixe LU avec un profil CU ?\");\n"
   ]
  },
  {
   "cell_type": "code",
   "execution_count": 6,
   "id": "c535a81a",
   "metadata": {
    "ExecuteTime": {
     "end_time": "2023-04-21T14:10:59.139291Z",
     "start_time": "2023-04-21T14:10:58.757192Z"
    },
    "tags": [
     "remove-input"
    ]
   },
   "outputs": [
    {
     "data": {
      "image/png": "[encoded data removed]",
      "text/plain": [
       "<Figure size 432x288 with 1 Axes>"
      ]
     },
     "metadata": {
      "needs_background": "light"
     },
     "output_type": "display_data"
    }
   ],
   "source": [
    "temp = charges[charges[\"Meter_ID\"]==\"A\"].sort_values(by=\"Date\")\n",
    "plt.plot(temp[\"Power\"])\n",
    "plt.ylabel(\"Power\")\n",
    "plt.xticks([])\n",
    "plt.xlabel(\"1 ans\")\n",
    "plt.title(\"compteur 'A' : HTA Pointe fixe LU avec un profil LU ?\");"
   ]
  },
  {
   "cell_type": "code",
   "execution_count": 7,
   "id": "07b76e51",
   "metadata": {
    "ExecuteTime": {
     "end_time": "2023-04-21T14:10:59.487335Z",
     "start_time": "2023-04-21T14:10:59.143952Z"
    },
    "tags": [
     "remove-input"
    ]
   },
   "outputs": [
    {
     "data": {
      "image/png": "[encoded data removed]",
      "text/plain": [
       "<Figure size 432x288 with 1 Axes>"
      ]
     },
     "metadata": {
      "needs_background": "light"
     },
     "output_type": "display_data"
    }
   ],
   "source": [
    "temp = charges[charges[\"Meter_ID\"]==\"G\"].sort_values(by=\"Date\")\n",
    "plt.plot(temp[\"Power\"])\n",
    "plt.ylabel(\"Power\")\n",
    "plt.xticks([])\n",
    "plt.xlabel(\"1 ans\")\n",
    "plt.title(\"compteur 'E' : HTA Pointe fixe LU avec un profil MU ?\");"
   ]
  },
  {
   "cell_type": "markdown",
   "id": "d963f9f0",
   "metadata": {},
   "source": [
    "# Heures & Saisons"
   ]
  },
  {
   "cell_type": "markdown",
   "id": "6136c06d",
   "metadata": {},
   "source": [
    "## Labelling"
   ]
  },
  {
   "cell_type": "markdown",
   "id": "b5b9a82d",
   "metadata": {
    "ExecuteTime": {
     "end_time": "2023-04-19T10:43:07.214379Z",
     "start_time": "2023-04-19T10:43:07.062758Z"
    }
   },
   "source": [
    "![alt text](images/heures.png \"Title\")\n"
   ]
  },
  {
   "cell_type": "markdown",
   "id": "7c8cc36d",
   "metadata": {},
   "source": [
    "La courbe de charge définit l’évolution de la consommation d’énergie pendant une durée (1 heure, 1 minutes, 10 secondes…), et donc de la puissance électrique consommée pendant une durée fixe. Elle est constituée d'un relevé de la consommation électrique du client à intervalles réguliers (le pas de mesure).\n",
    "\n",
    "Pour simplifier l'exercice, les jours féries n'ont pas été pris en compte "
   ]
  },
  {
   "cell_type": "code",
   "execution_count": 8,
   "id": "529bc273",
   "metadata": {
    "ExecuteTime": {
     "end_time": "2023-04-21T14:10:59.522471Z",
     "start_time": "2023-04-21T14:10:59.503774Z"
    }
   },
   "outputs": [],
   "source": [
    "# Nomenclature \n",
    "# \"HP\" Heure Pointe\n",
    "# \"HPH\" Heure pleine Haute Saison (Hiver)\n",
    "# \"HCH\" Heure Creuse Haute Saison (Hiver)\n",
    "# \"HPE\" Heure Pleine Basse Saison (Eté)\n",
    "# \"HCE\" Heure Creuse Basse Saison (Eté)"
   ]
  },
  {
   "cell_type": "code",
   "execution_count": 9,
   "id": "0cbda877",
   "metadata": {
    "ExecuteTime": {
     "end_time": "2023-04-21T14:10:59.579983Z",
     "start_time": "2023-04-21T14:10:59.534048Z"
    },
    "tags": [
     "hide-input",
     "hide-output"
    ]
   },
   "outputs": [
    {
     "data": {
      "text/plain": [
       "False"
      ]
     },
     "execution_count": 9,
     "metadata": {},
     "output_type": "execute_result"
    }
   ],
   "source": [
    "def is_weekend(day):\n",
    "    '''Return True if the day is not a bussness day'''\n",
    "    # TODO vacances françaises ?\n",
    "    return not bool(len(pd.bdate_range(start=day,end=day)))\n",
    "\n",
    "start = pd.to_datetime(\"2023-04-24\")\n",
    "is_weekend(start)"
   ]
  },
  {
   "cell_type": "code",
   "execution_count": 10,
   "id": "c4ee4d8c",
   "metadata": {
    "ExecuteTime": {
     "end_time": "2023-04-21T14:10:59.662387Z",
     "start_time": "2023-04-21T14:10:59.594711Z"
    },
    "tags": [
     "hide-input"
    ]
   },
   "outputs": [
    {
     "name": "stdout",
     "output_type": "stream",
     "text": [
      "Fonction de Classification des heures, exemple : \n",
      "2222-04-12 11:00:00\n",
      "La catégorie est \n"
     ]
    },
    {
     "data": {
      "text/plain": [
       "'HPE'"
      ]
     },
     "execution_count": 10,
     "metadata": {},
     "output_type": "execute_result"
    }
   ],
   "source": [
    "def get_hour_tarif(date):\n",
    "    # (Saison haute)\n",
    "    if date.month in [1,2,3,11,12]:\n",
    "        \n",
    "        if is_weekend(date): return \"HCH\"\n",
    "        \n",
    "        if date.month not in [3,11] and date.hour in [9,10,18,19]: return \"HP\"\n",
    "        \n",
    "        if date.hour in [0,1,2,3,4,5,6,23] : return \"HCH\"\n",
    "        \n",
    "        else : return \"HPH\"\n",
    "            \n",
    "    # (Basse Saison)\n",
    "    if is_weekend(date) : \n",
    "        return \"HCE\"\n",
    "    \n",
    "    if date.hour in list(range(7,23)) : return \"HPE\"\n",
    "    else : return \"HCE\"\n",
    "        \n",
    "ex = datetime.datetime(2222,4,12,11)\n",
    "\n",
    "print(\"Fonction de Classification des heures, exemple : \")\n",
    "print(ex)\n",
    "print(\"La catégorie est \")\n",
    "get_hour_tarif(ex)"
   ]
  },
  {
   "cell_type": "code",
   "execution_count": 11,
   "id": "4b2bb7ab",
   "metadata": {
    "ExecuteTime": {
     "end_time": "2023-04-21T14:10:59.702593Z",
     "start_time": "2023-04-21T14:10:59.673904Z"
    },
    "tags": [
     "remove-input",
     "remove-ouput"
    ]
   },
   "outputs": [
    {
     "name": "stdout",
     "output_type": "stream",
     "text": [
      "2022-08-15 01:10:00\n"
     ]
    },
    {
     "data": {
      "text/plain": [
       "'HCE'"
      ]
     },
     "execution_count": 11,
     "metadata": {},
     "output_type": "execute_result"
    }
   ],
   "source": [
    "# Random tests\n",
    "import random\n",
    "n= random.randint(0,(len(charges)))\n",
    "ex = charges.iloc[n][\"Date\"]\n",
    "print(ex)\n",
    "get_hour_tarif(ex)"
   ]
  },
  {
   "cell_type": "code",
   "execution_count": 12,
   "id": "f360e893",
   "metadata": {
    "ExecuteTime": {
     "end_time": "2023-04-21T14:11:47.605937Z",
     "start_time": "2023-04-21T14:10:59.742931Z"
    },
    "tags": [
     "hide-input"
    ]
   },
   "outputs": [
    {
     "name": "stdout",
     "output_type": "stream",
     "text": [
      "Rajout de la colomne Hour_code \n"
     ]
    },
    {
     "data": {
      "text/html": [
       "<div>\n",
       "<style scoped>\n",
       "    .dataframe tbody tr th:only-of-type {\n",
       "        vertical-align: middle;\n",
       "    }\n",
       "\n",
       "    .dataframe tbody tr th {\n",
       "        vertical-align: top;\n",
       "    }\n",
       "\n",
       "    .dataframe thead th {\n",
       "        text-align: right;\n",
       "    }\n",
       "</style>\n",
       "<table border=\"1\" class=\"dataframe\">\n",
       "  <thead>\n",
       "    <tr style=\"text-align: right;\">\n",
       "      <th></th>\n",
       "      <th>Fluid</th>\n",
       "      <th>Date</th>\n",
       "      <th>Power</th>\n",
       "      <th>Meter_ID</th>\n",
       "      <th>Hour_code</th>\n",
       "    </tr>\n",
       "  </thead>\n",
       "  <tbody>\n",
       "    <tr>\n",
       "      <th>0</th>\n",
       "      <td>Electricity</td>\n",
       "      <td>2022-03-23 00:00:00</td>\n",
       "      <td>165</td>\n",
       "      <td>F</td>\n",
       "      <td>HCH</td>\n",
       "    </tr>\n",
       "    <tr>\n",
       "      <th>1</th>\n",
       "      <td>Electricity</td>\n",
       "      <td>2022-03-23 00:10:00</td>\n",
       "      <td>168</td>\n",
       "      <td>F</td>\n",
       "      <td>HCH</td>\n",
       "    </tr>\n",
       "    <tr>\n",
       "      <th>2</th>\n",
       "      <td>Electricity</td>\n",
       "      <td>2022-03-23 00:20:00</td>\n",
       "      <td>170</td>\n",
       "      <td>F</td>\n",
       "      <td>HCH</td>\n",
       "    </tr>\n",
       "    <tr>\n",
       "      <th>3</th>\n",
       "      <td>Electricity</td>\n",
       "      <td>2022-03-23 00:30:00</td>\n",
       "      <td>166</td>\n",
       "      <td>F</td>\n",
       "      <td>HCH</td>\n",
       "    </tr>\n",
       "    <tr>\n",
       "      <th>4</th>\n",
       "      <td>Electricity</td>\n",
       "      <td>2022-03-23 00:40:00</td>\n",
       "      <td>97</td>\n",
       "      <td>F</td>\n",
       "      <td>HCH</td>\n",
       "    </tr>\n",
       "    <tr>\n",
       "      <th>...</th>\n",
       "      <td>...</td>\n",
       "      <td>...</td>\n",
       "      <td>...</td>\n",
       "      <td>...</td>\n",
       "      <td>...</td>\n",
       "    </tr>\n",
       "    <tr>\n",
       "      <th>355489</th>\n",
       "      <td>Electricity</td>\n",
       "      <td>2023-02-23 23:10:00</td>\n",
       "      <td>132</td>\n",
       "      <td>G</td>\n",
       "      <td>HCH</td>\n",
       "    </tr>\n",
       "    <tr>\n",
       "      <th>355490</th>\n",
       "      <td>Electricity</td>\n",
       "      <td>2023-02-23 23:20:00</td>\n",
       "      <td>132</td>\n",
       "      <td>G</td>\n",
       "      <td>HCH</td>\n",
       "    </tr>\n",
       "    <tr>\n",
       "      <th>355491</th>\n",
       "      <td>Electricity</td>\n",
       "      <td>2023-02-23 23:30:00</td>\n",
       "      <td>130</td>\n",
       "      <td>G</td>\n",
       "      <td>HCH</td>\n",
       "    </tr>\n",
       "    <tr>\n",
       "      <th>355492</th>\n",
       "      <td>Electricity</td>\n",
       "      <td>2023-02-23 23:40:00</td>\n",
       "      <td>131</td>\n",
       "      <td>G</td>\n",
       "      <td>HCH</td>\n",
       "    </tr>\n",
       "    <tr>\n",
       "      <th>355493</th>\n",
       "      <td>Electricity</td>\n",
       "      <td>2023-02-23 23:50:00</td>\n",
       "      <td>132</td>\n",
       "      <td>G</td>\n",
       "      <td>HCH</td>\n",
       "    </tr>\n",
       "  </tbody>\n",
       "</table>\n",
       "<p>355494 rows × 5 columns</p>\n",
       "</div>"
      ],
      "text/plain": [
       "              Fluid                Date  Power Meter_ID Hour_code\n",
       "0       Electricity 2022-03-23 00:00:00    165        F       HCH\n",
       "1       Electricity 2022-03-23 00:10:00    168        F       HCH\n",
       "2       Electricity 2022-03-23 00:20:00    170        F       HCH\n",
       "3       Electricity 2022-03-23 00:30:00    166        F       HCH\n",
       "4       Electricity 2022-03-23 00:40:00     97        F       HCH\n",
       "...             ...                 ...    ...      ...       ...\n",
       "355489  Electricity 2023-02-23 23:10:00    132        G       HCH\n",
       "355490  Electricity 2023-02-23 23:20:00    132        G       HCH\n",
       "355491  Electricity 2023-02-23 23:30:00    130        G       HCH\n",
       "355492  Electricity 2023-02-23 23:40:00    131        G       HCH\n",
       "355493  Electricity 2023-02-23 23:50:00    132        G       HCH\n",
       "\n",
       "[355494 rows x 5 columns]"
      ]
     },
     "execution_count": 12,
     "metadata": {},
     "output_type": "execute_result"
    }
   ],
   "source": [
    "print(\"Rajout de la colomne Hour_code \")\n",
    "\n",
    "charges[\"Hour_code\"] = charges.Date.apply(get_hour_tarif)\n",
    "\n",
    "charges"
   ]
  },
  {
   "cell_type": "markdown",
   "id": "2f283304",
   "metadata": {},
   "source": [
    "## Calcul des puissances max atteinte "
   ]
  },
  {
   "cell_type": "code",
   "execution_count": 13,
   "id": "20c2eeca",
   "metadata": {
    "ExecuteTime": {
     "end_time": "2023-04-21T14:12:02.285504Z",
     "start_time": "2023-04-21T14:11:47.662278Z"
    },
    "tags": [
     "hide-input"
    ]
   },
   "outputs": [
    {
     "data": {
      "text/html": [
       "<div>\n",
       "<style scoped>\n",
       "    .dataframe tbody tr th:only-of-type {\n",
       "        vertical-align: middle;\n",
       "    }\n",
       "\n",
       "    .dataframe tbody tr th {\n",
       "        vertical-align: top;\n",
       "    }\n",
       "\n",
       "    .dataframe thead th {\n",
       "        text-align: right;\n",
       "    }\n",
       "</style>\n",
       "<table border=\"1\" class=\"dataframe\">\n",
       "  <thead>\n",
       "    <tr style=\"text-align: right;\">\n",
       "      <th></th>\n",
       "      <th>Actuel : Puissance max atteinte HCE</th>\n",
       "      <th>Actuel : Consommation HCE (kWh)</th>\n",
       "    </tr>\n",
       "    <tr>\n",
       "      <th>meter_id</th>\n",
       "      <th></th>\n",
       "      <th></th>\n",
       "    </tr>\n",
       "  </thead>\n",
       "  <tbody>\n",
       "    <tr>\n",
       "      <th>B</th>\n",
       "      <td>262.0</td>\n",
       "      <td>4.215950e+04</td>\n",
       "    </tr>\n",
       "    <tr>\n",
       "      <th>D</th>\n",
       "      <td>139.0</td>\n",
       "      <td>5.022267e+04</td>\n",
       "    </tr>\n",
       "    <tr>\n",
       "      <th>A</th>\n",
       "      <td>1132.0</td>\n",
       "      <td>1.926194e+06</td>\n",
       "    </tr>\n",
       "    <tr>\n",
       "      <th>G</th>\n",
       "      <td>270.0</td>\n",
       "      <td>4.134238e+05</td>\n",
       "    </tr>\n",
       "    <tr>\n",
       "      <th>C</th>\n",
       "      <td>120.0</td>\n",
       "      <td>5.071817e+04</td>\n",
       "    </tr>\n",
       "    <tr>\n",
       "      <th>E</th>\n",
       "      <td>132.0</td>\n",
       "      <td>1.856840e+05</td>\n",
       "    </tr>\n",
       "    <tr>\n",
       "      <th>F</th>\n",
       "      <td>391.0</td>\n",
       "      <td>3.710333e+05</td>\n",
       "    </tr>\n",
       "  </tbody>\n",
       "</table>\n",
       "</div>"
      ],
      "text/plain": [
       "          Actuel : Puissance max atteinte HCE  Actuel : Consommation HCE (kWh)\n",
       "meter_id                                                                      \n",
       "B                                       262.0                     4.215950e+04\n",
       "D                                       139.0                     5.022267e+04\n",
       "A                                      1132.0                     1.926194e+06\n",
       "G                                       270.0                     4.134238e+05\n",
       "C                                       120.0                     5.071817e+04\n",
       "E                                       132.0                     1.856840e+05\n",
       "F                                       391.0                     3.710333e+05"
      ]
     },
     "execution_count": 13,
     "metadata": {},
     "output_type": "execute_result"
    }
   ],
   "source": [
    "def get_max_and_tot_puissance(meterid:str\n",
    "                     ,charges:pd.DataFrame):\n",
    "    temp = charges[charges[\"Meter_ID\"]==meterid]\n",
    "    #for code in [\"HP\",\"HPH\",\"HCH\",\"HPE\",\"HCE\"]:\n",
    "    maxes = (temp.groupby(by=\"Hour_code\").max()[[\"Power\"]].rename(columns={\"Power\":\"Max Power\"}))\n",
    "    #print(maxes.loc[\"HP\",\"Max Power\"])\n",
    "    res.loc[meterid,\"Actuel : Puissance max atteinte Pointe\"]= maxes.loc[\"HP\",\"Max Power\"]\n",
    "    res.loc[meterid,\"Actuel : Puissance max atteinte HPH\"]= maxes.loc[\"HPH\",\"Max Power\"]\n",
    "    res.loc[meterid,\"Actuel : Puissance max atteinte HCH\"]= maxes.loc[\"HCH\",\"Max Power\"]\n",
    "    res.loc[meterid,\"Actuel : Puissance max atteinte HCE\"]= maxes.loc[\"HCE\",\"Max Power\"]\n",
    "    res.loc[meterid,\"Actuel : Puissance max atteinte HPE\"]= maxes.loc[\"HPE\",\"Max Power\"]\n",
    "    \n",
    "    temp = charges[charges[\"Meter_ID\"]==letter]\n",
    "    temp.set_index(\"Date\",drop=True,inplace=True)\n",
    "    temp = temp.loc[:,[\"Power\"]].resample(\"H\").mean()\n",
    "    temp[\"Date\"]=temp.index\n",
    "    temp[\"Hour_code\"]= temp.Date.apply(get_hour_tarif)\n",
    "    tot = temp.loc[:,[\"Power\",\"Hour_code\"]].groupby(by=\"Hour_code\").sum()[[\"Power\"]].rename(columns={\"Power\":\"Total Power\"})\n",
    "    \n",
    "    res.loc[meterid,\"Actuel : Consommation POINTE (kWh)\"]= tot.loc[\"HP\",\"Total Power\"]\n",
    "    #print(E1)\n",
    "    res.loc[meterid,\"Consommation kwh hph réelle\"] = tot.loc[\"HPH\",\"Total Power\"]\n",
    "    #print(E2)\n",
    "    res.loc[meterid,\"Actuel : Consommation HCH (kWh)\"] = tot.loc[\"HCH\",\"Total Power\"]\n",
    "    #print(E3)\n",
    "    res.loc[meterid,\"Actuel : Consommation HPE (kWh)\"] = tot.loc[\"HPE\",\"Total Power\"]\n",
    "    #print(E4)\n",
    "    res.loc[meterid,\"Actuel : Consommation HCE (kWh)\"] = tot.loc[\"HCE\",\"Total Power\"]\n",
    "    #print(E5)\n",
    "    \n",
    "get_max_and_tot_puissance(\"B\",charges)\n",
    "for letter in res.index:\n",
    "    get_max_and_tot_puissance(letter,charges)\n",
    "res.loc[:,[\"Actuel : Puissance max atteinte HCE\",\"Actuel : Consommation HCE (kWh)\"]]"
   ]
  },
  {
   "cell_type": "code",
   "execution_count": 14,
   "id": "60806d1e",
   "metadata": {
    "ExecuteTime": {
     "end_time": "2023-04-21T14:12:02.371871Z",
     "start_time": "2023-04-21T14:12:02.297676Z"
    }
   },
   "outputs": [
    {
     "data": {
      "text/html": [
       "<div>\n",
       "<style scoped>\n",
       "    .dataframe tbody tr th:only-of-type {\n",
       "        vertical-align: middle;\n",
       "    }\n",
       "\n",
       "    .dataframe tbody tr th {\n",
       "        vertical-align: top;\n",
       "    }\n",
       "\n",
       "    .dataframe thead th {\n",
       "        text-align: right;\n",
       "    }\n",
       "</style>\n",
       "<table border=\"1\" class=\"dataframe\">\n",
       "  <thead>\n",
       "    <tr style=\"text-align: right;\">\n",
       "      <th></th>\n",
       "      <th>Code postal</th>\n",
       "      <th>Date de début</th>\n",
       "      <th>Date de fin</th>\n",
       "      <th>Actuel : tarif</th>\n",
       "      <th>Actuel : Facture glissante (€ HT)</th>\n",
       "      <th>Actuel : Puissance souscrite POINTE</th>\n",
       "      <th>Puissance souscrite hph actuelle (kVA C4 / kW C3-C1)</th>\n",
       "      <th>Puissance souscrite hch actuelle (kVA C4 / kW C3-C1)</th>\n",
       "      <th>Puissance souscrite hpe actuelle (kVA C4 / kW C3-C1)</th>\n",
       "      <th>Puissance souscrite hce actuelle (kVA C4 / kW C3-C1)</th>\n",
       "      <th>...</th>\n",
       "      <th>Consommation kwh hph réelle</th>\n",
       "      <th>Actuel : Consommation POINTE (kWh)</th>\n",
       "      <th>Préconisation : tarif</th>\n",
       "      <th>Préconisation : Facture glissante (€ HT)</th>\n",
       "      <th>Puissance souscrite pointe optimisée (kVA C4 / kW C3-C1)</th>\n",
       "      <th>Puissance souscrite hph optimisée (kVA C4 / kW C3-C1)</th>\n",
       "      <th>Puissance souscrite hch optimisée (kVA C4 / kW C3-C1)</th>\n",
       "      <th>Puissance souscrite hpe optimisée (kVA C4 / kW C3-C1)</th>\n",
       "      <th>Puissance souscrite hce optimisée (kVA C4 / kW C3-C1)</th>\n",
       "      <th>Gains euros</th>\n",
       "    </tr>\n",
       "    <tr>\n",
       "      <th>meter_id</th>\n",
       "      <th></th>\n",
       "      <th></th>\n",
       "      <th></th>\n",
       "      <th></th>\n",
       "      <th></th>\n",
       "      <th></th>\n",
       "      <th></th>\n",
       "      <th></th>\n",
       "      <th></th>\n",
       "      <th></th>\n",
       "      <th></th>\n",
       "      <th></th>\n",
       "      <th></th>\n",
       "      <th></th>\n",
       "      <th></th>\n",
       "      <th></th>\n",
       "      <th></th>\n",
       "      <th></th>\n",
       "      <th></th>\n",
       "      <th></th>\n",
       "      <th></th>\n",
       "    </tr>\n",
       "  </thead>\n",
       "  <tbody>\n",
       "    <tr>\n",
       "      <th>B</th>\n",
       "      <td>39015</td>\n",
       "      <td>2022-03-23 00:00:00</td>\n",
       "      <td>2023-02-23 23:50:00</td>\n",
       "      <td>HTA pointe fixe LU</td>\n",
       "      <td>NaN</td>\n",
       "      <td>500</td>\n",
       "      <td>500</td>\n",
       "      <td>500</td>\n",
       "      <td>500</td>\n",
       "      <td>500</td>\n",
       "      <td>...</td>\n",
       "      <td>2.994567e+04</td>\n",
       "      <td>8063.166667</td>\n",
       "      <td>NaN</td>\n",
       "      <td>NaN</td>\n",
       "      <td>NaN</td>\n",
       "      <td>NaN</td>\n",
       "      <td>NaN</td>\n",
       "      <td>NaN</td>\n",
       "      <td>NaN</td>\n",
       "      <td>NaN</td>\n",
       "    </tr>\n",
       "    <tr>\n",
       "      <th>D</th>\n",
       "      <td>58220</td>\n",
       "      <td>2022-03-23 00:00:00</td>\n",
       "      <td>2023-02-23 23:50:00</td>\n",
       "      <td>HTA pointe fixe LU</td>\n",
       "      <td>NaN</td>\n",
       "      <td>130</td>\n",
       "      <td>130</td>\n",
       "      <td>130</td>\n",
       "      <td>130</td>\n",
       "      <td>130</td>\n",
       "      <td>...</td>\n",
       "      <td>5.346917e+04</td>\n",
       "      <td>14194.000000</td>\n",
       "      <td>NaN</td>\n",
       "      <td>NaN</td>\n",
       "      <td>NaN</td>\n",
       "      <td>NaN</td>\n",
       "      <td>NaN</td>\n",
       "      <td>NaN</td>\n",
       "      <td>NaN</td>\n",
       "      <td>NaN</td>\n",
       "    </tr>\n",
       "    <tr>\n",
       "      <th>A</th>\n",
       "      <td>58000</td>\n",
       "      <td>2022-03-23 00:00:00</td>\n",
       "      <td>2023-02-23 23:50:00</td>\n",
       "      <td>HTA pointe fixe LU</td>\n",
       "      <td>NaN</td>\n",
       "      <td>1530</td>\n",
       "      <td>1530</td>\n",
       "      <td>1530</td>\n",
       "      <td>1710</td>\n",
       "      <td>1710</td>\n",
       "      <td>...</td>\n",
       "      <td>1.114749e+06</td>\n",
       "      <td>233570.166667</td>\n",
       "      <td>NaN</td>\n",
       "      <td>NaN</td>\n",
       "      <td>NaN</td>\n",
       "      <td>NaN</td>\n",
       "      <td>NaN</td>\n",
       "      <td>NaN</td>\n",
       "      <td>NaN</td>\n",
       "      <td>NaN</td>\n",
       "    </tr>\n",
       "    <tr>\n",
       "      <th>G</th>\n",
       "      <td>25600</td>\n",
       "      <td>2022-03-23 00:00:00</td>\n",
       "      <td>2023-02-23 23:50:00</td>\n",
       "      <td>HTA pointe fixe LU</td>\n",
       "      <td>NaN</td>\n",
       "      <td>300</td>\n",
       "      <td>300</td>\n",
       "      <td>300</td>\n",
       "      <td>300</td>\n",
       "      <td>300</td>\n",
       "      <td>...</td>\n",
       "      <td>2.002252e+05</td>\n",
       "      <td>42837.333333</td>\n",
       "      <td>NaN</td>\n",
       "      <td>NaN</td>\n",
       "      <td>NaN</td>\n",
       "      <td>NaN</td>\n",
       "      <td>NaN</td>\n",
       "      <td>NaN</td>\n",
       "      <td>NaN</td>\n",
       "      <td>NaN</td>\n",
       "    </tr>\n",
       "    <tr>\n",
       "      <th>C</th>\n",
       "      <td>58230</td>\n",
       "      <td>2022-03-23 00:00:00</td>\n",
       "      <td>2023-02-23 23:50:00</td>\n",
       "      <td>HTA pointe fixe CU</td>\n",
       "      <td>NaN</td>\n",
       "      <td>61</td>\n",
       "      <td>61</td>\n",
       "      <td>61</td>\n",
       "      <td>61</td>\n",
       "      <td>61</td>\n",
       "      <td>...</td>\n",
       "      <td>4.323550e+04</td>\n",
       "      <td>10488.833333</td>\n",
       "      <td>NaN</td>\n",
       "      <td>NaN</td>\n",
       "      <td>NaN</td>\n",
       "      <td>NaN</td>\n",
       "      <td>NaN</td>\n",
       "      <td>NaN</td>\n",
       "      <td>NaN</td>\n",
       "      <td>NaN</td>\n",
       "    </tr>\n",
       "    <tr>\n",
       "      <th>E</th>\n",
       "      <td>25290</td>\n",
       "      <td>2022-03-23 00:00:00</td>\n",
       "      <td>2023-02-23 23:50:00</td>\n",
       "      <td>HTA pointe fixe CU</td>\n",
       "      <td>NaN</td>\n",
       "      <td>123</td>\n",
       "      <td>123</td>\n",
       "      <td>350</td>\n",
       "      <td>350</td>\n",
       "      <td>350</td>\n",
       "      <td>...</td>\n",
       "      <td>8.186783e+04</td>\n",
       "      <td>17311.166667</td>\n",
       "      <td>NaN</td>\n",
       "      <td>NaN</td>\n",
       "      <td>NaN</td>\n",
       "      <td>NaN</td>\n",
       "      <td>NaN</td>\n",
       "      <td>NaN</td>\n",
       "      <td>NaN</td>\n",
       "      <td>NaN</td>\n",
       "    </tr>\n",
       "    <tr>\n",
       "      <th>F</th>\n",
       "      <td>90000</td>\n",
       "      <td>2022-03-23 00:00:00</td>\n",
       "      <td>2023-02-23 23:50:00</td>\n",
       "      <td>HTA pointe fixe LU</td>\n",
       "      <td>NaN</td>\n",
       "      <td>66</td>\n",
       "      <td>410</td>\n",
       "      <td>410</td>\n",
       "      <td>410</td>\n",
       "      <td>410</td>\n",
       "      <td>...</td>\n",
       "      <td>1.742085e+05</td>\n",
       "      <td>21112.000000</td>\n",
       "      <td>NaN</td>\n",
       "      <td>NaN</td>\n",
       "      <td>NaN</td>\n",
       "      <td>NaN</td>\n",
       "      <td>NaN</td>\n",
       "      <td>NaN</td>\n",
       "      <td>NaN</td>\n",
       "      <td>NaN</td>\n",
       "    </tr>\n",
       "  </tbody>\n",
       "</table>\n",
       "<p>7 rows × 28 columns</p>\n",
       "</div>"
      ],
      "text/plain": [
       "          Code postal        Date de début          Date de fin  \\\n",
       "meter_id                                                          \n",
       "B               39015  2022-03-23 00:00:00  2023-02-23 23:50:00   \n",
       "D               58220  2022-03-23 00:00:00  2023-02-23 23:50:00   \n",
       "A               58000  2022-03-23 00:00:00  2023-02-23 23:50:00   \n",
       "G               25600  2022-03-23 00:00:00  2023-02-23 23:50:00   \n",
       "C               58230  2022-03-23 00:00:00  2023-02-23 23:50:00   \n",
       "E               25290  2022-03-23 00:00:00  2023-02-23 23:50:00   \n",
       "F               90000  2022-03-23 00:00:00  2023-02-23 23:50:00   \n",
       "\n",
       "              Actuel : tarif  Actuel : Facture glissante (€ HT)  \\\n",
       "meter_id                                                          \n",
       "B         HTA pointe fixe LU                                NaN   \n",
       "D         HTA pointe fixe LU                                NaN   \n",
       "A         HTA pointe fixe LU                                NaN   \n",
       "G         HTA pointe fixe LU                                NaN   \n",
       "C         HTA pointe fixe CU                                NaN   \n",
       "E         HTA pointe fixe CU                                NaN   \n",
       "F         HTA pointe fixe LU                                NaN   \n",
       "\n",
       "          Actuel : Puissance souscrite POINTE  \\\n",
       "meter_id                                        \n",
       "B                                         500   \n",
       "D                                         130   \n",
       "A                                        1530   \n",
       "G                                         300   \n",
       "C                                          61   \n",
       "E                                         123   \n",
       "F                                          66   \n",
       "\n",
       "          Puissance souscrite hph actuelle (kVA C4 / kW C3-C1)  \\\n",
       "meter_id                                                         \n",
       "B                                                       500      \n",
       "D                                                       130      \n",
       "A                                                      1530      \n",
       "G                                                       300      \n",
       "C                                                        61      \n",
       "E                                                       123      \n",
       "F                                                       410      \n",
       "\n",
       "          Puissance souscrite hch actuelle (kVA C4 / kW C3-C1)  \\\n",
       "meter_id                                                         \n",
       "B                                                       500      \n",
       "D                                                       130      \n",
       "A                                                      1530      \n",
       "G                                                       300      \n",
       "C                                                        61      \n",
       "E                                                       350      \n",
       "F                                                       410      \n",
       "\n",
       "          Puissance souscrite hpe actuelle (kVA C4 / kW C3-C1)  \\\n",
       "meter_id                                                         \n",
       "B                                                       500      \n",
       "D                                                       130      \n",
       "A                                                      1710      \n",
       "G                                                       300      \n",
       "C                                                        61      \n",
       "E                                                       350      \n",
       "F                                                       410      \n",
       "\n",
       "          Puissance souscrite hce actuelle (kVA C4 / kW C3-C1)  ...  \\\n",
       "meter_id                                                        ...   \n",
       "B                                                       500     ...   \n",
       "D                                                       130     ...   \n",
       "A                                                      1710     ...   \n",
       "G                                                       300     ...   \n",
       "C                                                        61     ...   \n",
       "E                                                       350     ...   \n",
       "F                                                       410     ...   \n",
       "\n",
       "          Consommation kwh hph réelle  Actuel : Consommation POINTE (kWh)  \\\n",
       "meter_id                                                                    \n",
       "B                        2.994567e+04                         8063.166667   \n",
       "D                        5.346917e+04                        14194.000000   \n",
       "A                        1.114749e+06                       233570.166667   \n",
       "G                        2.002252e+05                        42837.333333   \n",
       "C                        4.323550e+04                        10488.833333   \n",
       "E                        8.186783e+04                        17311.166667   \n",
       "F                        1.742085e+05                        21112.000000   \n",
       "\n",
       "          Préconisation : tarif  Préconisation : Facture glissante (€ HT)  \\\n",
       "meter_id                                                                    \n",
       "B                           NaN                                       NaN   \n",
       "D                           NaN                                       NaN   \n",
       "A                           NaN                                       NaN   \n",
       "G                           NaN                                       NaN   \n",
       "C                           NaN                                       NaN   \n",
       "E                           NaN                                       NaN   \n",
       "F                           NaN                                       NaN   \n",
       "\n",
       "          Puissance souscrite pointe optimisée (kVA C4 / kW C3-C1)  \\\n",
       "meter_id                                                             \n",
       "B                                                       NaN          \n",
       "D                                                       NaN          \n",
       "A                                                       NaN          \n",
       "G                                                       NaN          \n",
       "C                                                       NaN          \n",
       "E                                                       NaN          \n",
       "F                                                       NaN          \n",
       "\n",
       "          Puissance souscrite hph optimisée (kVA C4 / kW C3-C1)  \\\n",
       "meter_id                                                          \n",
       "B                                                       NaN       \n",
       "D                                                       NaN       \n",
       "A                                                       NaN       \n",
       "G                                                       NaN       \n",
       "C                                                       NaN       \n",
       "E                                                       NaN       \n",
       "F                                                       NaN       \n",
       "\n",
       "          Puissance souscrite hch optimisée (kVA C4 / kW C3-C1)  \\\n",
       "meter_id                                                          \n",
       "B                                                       NaN       \n",
       "D                                                       NaN       \n",
       "A                                                       NaN       \n",
       "G                                                       NaN       \n",
       "C                                                       NaN       \n",
       "E                                                       NaN       \n",
       "F                                                       NaN       \n",
       "\n",
       "          Puissance souscrite hpe optimisée (kVA C4 / kW C3-C1)  \\\n",
       "meter_id                                                          \n",
       "B                                                       NaN       \n",
       "D                                                       NaN       \n",
       "A                                                       NaN       \n",
       "G                                                       NaN       \n",
       "C                                                       NaN       \n",
       "E                                                       NaN       \n",
       "F                                                       NaN       \n",
       "\n",
       "          Puissance souscrite hce optimisée (kVA C4 / kW C3-C1)  Gains euros  \n",
       "meter_id                                                                      \n",
       "B                                                       NaN              NaN  \n",
       "D                                                       NaN              NaN  \n",
       "A                                                       NaN              NaN  \n",
       "G                                                       NaN              NaN  \n",
       "C                                                       NaN              NaN  \n",
       "E                                                       NaN              NaN  \n",
       "F                                                       NaN              NaN  \n",
       "\n",
       "[7 rows x 28 columns]"
      ]
     },
     "execution_count": 14,
     "metadata": {},
     "output_type": "execute_result"
    }
   ],
   "source": [
    "res"
   ]
  },
  {
   "cell_type": "markdown",
   "id": "d46acc32",
   "metadata": {},
   "source": [
    "# Couts Annuels"
   ]
  },
  {
   "cell_type": "markdown",
   "id": "7fd2ea79",
   "metadata": {},
   "source": [
    "![alt text](images/formula.png \"Title\")\n"
   ]
  },
  {
   "cell_type": "code",
   "execution_count": 15,
   "id": "58784712",
   "metadata": {
    "ExecuteTime": {
     "end_time": "2023-04-21T14:12:02.397188Z",
     "start_time": "2023-04-21T14:12:02.384677Z"
    }
   },
   "outputs": [],
   "source": [
    "COST_COEFICIENTS = {\n",
    "#Heures de Pointe Fixe(i=1),HPH(i=2),HCH(i=3), HPE(i=4), HCE (i=5)\n",
    "    \"HTA pointe fixe LU\":{ #PF == Pointe Fixe\n",
    "         \"Puissance\":[16.31,15.76,13.29,8.75,1.67] #b1, b2, b3, b4, b5\n",
    "        ,\"Energie\":[2.85,2.14,1.34,0.99,0.87] #c1, c2, c3, c4, c5\n",
    "    },\n",
    "    \"HTA pointe fixe CU\":{\n",
    "         \"Puissance\":[2.66,2.38,2.01,1.83,0.96]\n",
    "        ,\"Energie\":[3.11,2.93,2.11,1.95,1.18]\n",
    "    }\n",
    "}"
   ]
  },
  {
   "cell_type": "markdown",
   "id": "04966e6a",
   "metadata": {},
   "source": [
    "NB sur les puissances souscrites \n",
    "$$ PS1\\leq PS2 \\leq PS3 \\leq PS4 \\leq PS5 $$"
   ]
  },
  {
   "cell_type": "markdown",
   "id": "0a6d5d5a",
   "metadata": {},
   "source": [
    "$$PartFixe = b_1*PS_1 + \\sum_{i=2}^5{b_i * (PS_i-PS_{i-1})} $$"
   ]
  },
  {
   "cell_type": "markdown",
   "id": "61a7e705",
   "metadata": {},
   "source": [
    "Les $b_i$ sont les coefficient de puissance"
   ]
  },
  {
   "cell_type": "code",
   "execution_count": 16,
   "id": "41689ea9",
   "metadata": {
    "ExecuteTime": {
     "end_time": "2023-04-21T14:12:02.421245Z",
     "start_time": "2023-04-21T14:12:02.404666Z"
    },
    "tags": [
     "hide-input"
    ]
   },
   "outputs": [],
   "source": [
    "def compute_fixed_cost(typedeFacturation\n",
    "                      ,PS1\n",
    "                      ,PS2\n",
    "                      ,PS3\n",
    "                      ,PS4\n",
    "                      ,PS5):\n",
    "    b1,b2,b3,b4,b5 = COST_COEFICIENTS[typedeFacturation][\"Puissance\"]\n",
    "    return b1*PS1+b2*(PS2-PS1)+b3*(PS3-PS2)+b4*(PS4-PS3)+b5*(PS5-PS4)\n",
    "\n",
    "# letter = \"A\"\n",
    "# compute_fixed_cost(res.loc[letter,\"Actuel : tarif\"]\n",
    "#                     ,res.loc[letter,'Actuel : Puissance souscrite POINTE']\n",
    "#                     ,res.loc[letter,'Puissance souscrite hph actuelle (kVA C4 / kW C3-C1)']\n",
    "#                     ,res.loc[letter,'Puissance souscrite hch actuelle (kVA C4 / kW C3-C1)']\n",
    "#                     ,res.loc[letter,'Puissance souscrite hpe actuelle (kVA C4 / kW C3-C1)']\n",
    "#                     ,res.loc[letter,'Puissance souscrite hce actuelle (kVA C4 / kW C3-C1)'])"
   ]
  },
  {
   "cell_type": "markdown",
   "id": "0f5dd7df",
   "metadata": {},
   "source": [
    "$$ PartEnergie=\\sum_{i=1}^5{c_i*E_i}$$"
   ]
  },
  {
   "cell_type": "code",
   "execution_count": 17,
   "id": "5372abb3",
   "metadata": {
    "ExecuteTime": {
     "end_time": "2023-04-21T14:12:29.099830Z",
     "start_time": "2023-04-21T14:12:02.427923Z"
    },
    "tags": [
     "hide-input"
    ]
   },
   "outputs": [
    {
     "name": "stdout",
     "output_type": "stream",
     "text": [
      "compteur :A LU part Energie 85122.06 €\n",
      "compteur :A CU part Energie 131813.08 €\n",
      "compteur :B LU part Energie 2163.37 €\n",
      "compteur :B CU part Energie 3223.02 €\n",
      "compteur :C LU part Energie 2843.03 €\n",
      "compteur :C CU part Energie 4223.25 €\n",
      "compteur :D LU part Energie 3401.79 €\n",
      "compteur :D CU part Energie 5223.76 €\n",
      "compteur :E LU part Energie 7038.26 €\n",
      "compteur :E CU part Energie 10877.65 €\n",
      "compteur :F LU part Energie 13578.1 €\n",
      "compteur :F CU part Energie 20912.16 €\n",
      "compteur :G LU part Energie 16271.63 €\n",
      "compteur :G CU part Energie 25039.33 €\n"
     ]
    }
   ],
   "source": [
    "def compute_part_energie(typedeFacturation,charges,letter):\n",
    "    c1,c2,c3,c4,c5 = COST_COEFICIENTS[typedeFacturation][\"Energie\"]\n",
    "    temp = charges[charges[\"Meter_ID\"]==letter]\n",
    "    temp.set_index(\"Date\",drop=True,inplace=True)\n",
    "    temp = temp.loc[:,[\"Power\"]].resample(\"H\").mean()\n",
    "    temp[\"Date\"]=temp.index\n",
    "    temp[\"Hour_code\"]= temp.Date.apply(get_hour_tarif)\n",
    "    tot = temp.loc[:,[\"Power\",\"Hour_code\"]].groupby(by=\"Hour_code\").sum()[[\"Power\"]].rename(columns={\"Power\":\"Total Power\"})\n",
    "    E1 = tot.loc[\"HP\",\"Total Power\"]\n",
    "    #print(E1)\n",
    "    E2 = tot.loc[\"HPH\",\"Total Power\"]\n",
    "    #print(E2)\n",
    "    E3 = tot.loc[\"HCH\",\"Total Power\"]\n",
    "    #print(E3)\n",
    "    E4 = tot.loc[\"HPE\",\"Total Power\"]\n",
    "    #print(E4)\n",
    "    E5 = tot.loc[\"HCE\",\"Total Power\"]\n",
    "    #print(E5)\n",
    "    \n",
    "    a= c1*E1+c2*E2+c3*E3+c4*E4+c5*E5\n",
    "    return (c1*E1+c2*E2+c3*E3+c4*E4+c5*E5)/100\n",
    "\n",
    "for letter in [\"A\",\"B\",\"C\",\"D\",\"E\",\"F\",\"G\"]:\n",
    "    print(f\"compteur :{letter} LU part Energie\",round(compute_part_energie(\"HTA pointe fixe LU\",charges,letter),2),\"€\")\n",
    "    print(f\"compteur :{letter} CU part Energie\",round(compute_part_energie(\"HTA pointe fixe CU\",charges,letter),2),\"€\")"
   ]
  },
  {
   "cell_type": "markdown",
   "id": "e2859423",
   "metadata": {},
   "source": [
    "$$CMDPS =  \\sum_i^5{0.04 *b_i*\\sqrt{ \\sum_j{(P_j-PS_i)^2}}}$$"
   ]
  },
  {
   "cell_type": "code",
   "execution_count": 18,
   "id": "31728017",
   "metadata": {
    "ExecuteTime": {
     "end_time": "2023-04-21T14:12:29.680909Z",
     "start_time": "2023-04-21T14:12:29.109440Z"
    },
    "tags": [
     "hide-input",
     "hide-output"
    ]
   },
   "outputs": [
    {
     "data": {
      "text/plain": [
       "136631.16708634858"
      ]
     },
     "execution_count": 18,
     "metadata": {},
     "output_type": "execute_result"
    }
   ],
   "source": [
    "import numpy as np\n",
    "\n",
    "\n",
    "def compute_CMDPS(letter\n",
    "                  ,typedeFacturation\n",
    "                  ,PS:list #PS1,PS2,PS3,PS4,PS5\n",
    "                  ,res:pd.DataFrame\n",
    "                  ,verbose=0\n",
    "                 ):\n",
    "    '''\n",
    "    Composante Mensuelle de dépassement des puissances souscrites\n",
    "    '''\n",
    "    DAY = [\"HP\",\"HPH\",\"HCH\",\"HPB\",\"HCB\"]\n",
    "    B = COST_COEFICIENTS[typedeFacturation][\"Puissance\"]\n",
    "    temp = charges[charges[\"Meter_ID\"]==letter]\n",
    "    delta =[]\n",
    "    for i in range(5):\n",
    "        temp = charges[charges[\"Meter_ID\"]==letter].copy()\n",
    "        temp = temp[temp[\"Hour_code\"]==DAY[i]]\n",
    "        temp = temp[temp[\"Power\"]>PS[i]]\n",
    "        temp[\"Power\"]= (temp[\"Power\"]-PS[i])**2\n",
    "        if verbose:\n",
    "            print(np.sum(temp[\"Power\"]))\n",
    "            print(B[i]*(np.sum(temp[\"Power\"]))**0.5)\n",
    "            print(\"###\")\n",
    "        delta.append(B[i]*(np.sum(temp[\"Power\"]))**0.5)\n",
    "    return 0.11*np.sum(delta)\n",
    "    \n",
    "compute_CMDPS(\"A\",\"HTA pointe fixe LU\",[500,500,500,500,500],res)"
   ]
  },
  {
   "cell_type": "code",
   "execution_count": 19,
   "id": "4678fa0f",
   "metadata": {
    "ExecuteTime": {
     "end_time": "2023-04-21T14:12:29.714915Z",
     "start_time": "2023-04-21T14:12:29.690460Z"
    },
    "tags": [
     "hide-input",
     "hide-output"
    ]
   },
   "outputs": [],
   "source": [
    "def compute_total_cost(letter:str\n",
    "                      ,charges:pd.DataFrame\n",
    "                      ,res:pd.DataFrame\n",
    "                      ,type_facturation:str = None\n",
    "                      ,PS:list=None\n",
    "                      ,verbose=0):\n",
    "    \n",
    "    #if not PS list given take the existing one to compute actuel cost\n",
    "    if not PS:\n",
    "        PS = (res.loc[letter,'Actuel : Puissance souscrite POINTE']\n",
    "                                ,res.loc[letter,'Puissance souscrite hph actuelle (kVA C4 / kW C3-C1)']\n",
    "                                ,res.loc[letter,'Puissance souscrite hch actuelle (kVA C4 / kW C3-C1)']\n",
    "                                ,res.loc[letter,'Puissance souscrite hpe actuelle (kVA C4 / kW C3-C1)']\n",
    "                                ,res.loc[letter,'Puissance souscrite hce actuelle (kVA C4 / kW C3-C1)']\n",
    "                              )\n",
    "    PS1,PS2,PS3,PS4,PS5 = PS\n",
    "    #print(PS)\n",
    "    \n",
    "    # if no facturation type is provided take the existing one\n",
    "    if not type_facturation:\n",
    "        type_facturation = res.loc[letter,\"Actuel : tarif\"]\n",
    "\n",
    "        \n",
    "    fixed_cost =  compute_fixed_cost(type_facturation,PS1,PS2,PS3,PS4,PS5)\n",
    "    #print(fixed_cost)\n",
    "    \n",
    "    energie_cost = compute_part_energie(type_facturation,charges,letter)\n",
    "    #print(energie_cost)\n",
    "    \n",
    "    depassement_cost = compute_CMDPS(letter,type_facturation,PS,res)\n",
    "    #print(depassement_cost)\n",
    "    \n",
    "    total_cost = round(depassement_cost+fixed_cost+energie_cost,2)\n",
    "    \n",
    "    if verbose:\n",
    "        print(type_facturation)\n",
    "        print(f\"Total cost {total_cost:,}€ dont fixe {round(fixed_cost,2):,}€ , energie {round(energie_cost,2):,}€ et {round(depassement_cost,2):,}€ de dépassement\")\n",
    "    \n",
    "    return total_cost\n",
    "    "
   ]
  },
  {
   "cell_type": "markdown",
   "id": "794b0224",
   "metadata": {},
   "source": [
    "Calcul de cout suivant les types de facturations pour tous les compteurs"
   ]
  },
  {
   "cell_type": "code",
   "execution_count": 20,
   "id": "c522c82a",
   "metadata": {
    "ExecuteTime": {
     "end_time": "2023-04-21T14:13:05.941581Z",
     "start_time": "2023-04-21T14:12:29.728364Z"
    },
    "scrolled": true,
    "tags": [
     "hide-input"
    ]
   },
   "outputs": [
    {
     "name": "stdout",
     "output_type": "stream",
     "text": [
      "Compteur A\n",
      "HTA pointe fixe LU\n",
      "Total cost 111,651.36€ dont fixe 26,529.3€ , energie 85,122.06€ et 0.0€ de dépassement\n",
      "HTA pointe fixe CU\n",
      "Total cost 136,212.28€ dont fixe 4,399.2€ , energie 131,813.08€ et 0.0€ de dépassement\n",
      "\n",
      "\n",
      "Compteur B\n",
      "HTA pointe fixe LU\n",
      "Total cost 10,318.37€ dont fixe 8,155.0€ , energie 2,163.37€ et 0.0€ de dépassement\n",
      "HTA pointe fixe CU\n",
      "Total cost 4,553.02€ dont fixe 1,330.0€ , energie 3,223.02€ et 0.0€ de dépassement\n",
      "\n",
      "\n",
      "Compteur C\n",
      "HTA pointe fixe LU\n",
      "Total cost 6,816.08€ dont fixe 994.91€ , energie 2,843.03€ et 2,978.14€ de dépassement\n",
      "HTA pointe fixe CU\n",
      "Total cost 4,843.89€ dont fixe 162.26€ , energie 4,223.25€ et 458.39€ de dépassement\n",
      "\n",
      "\n",
      "Compteur D\n",
      "HTA pointe fixe LU\n",
      "Total cost 5,703.59€ dont fixe 2,120.3€ , energie 3,401.79€ et 181.5€ de dépassement\n",
      "HTA pointe fixe CU\n",
      "Total cost 5,598.23€ dont fixe 345.8€ , energie 5,223.76€ et 28.66€ de dépassement\n",
      "\n",
      "\n",
      "Compteur E\n",
      "HTA pointe fixe LU\n",
      "Total cost 12,061.22€ dont fixe 5,022.96€ , energie 7,038.26€ et 0.0€ de dépassement\n",
      "HTA pointe fixe CU\n",
      "Total cost 11,661.1€ dont fixe 783.45€ , energie 10,877.65€ et 0.0€ de dépassement\n",
      "\n",
      "\n",
      "Compteur F\n",
      "HTA pointe fixe LU\n",
      "Total cost 26,085.93€ dont fixe 6,497.9€ , energie 13,578.1€ et 6,009.93€ de dépassement\n",
      "HTA pointe fixe CU\n",
      "Total cost 22,886.55€ dont fixe 994.28€ , energie 20,912.16€ et 980.11€ de dépassement\n",
      "\n",
      "\n",
      "Compteur G\n",
      "HTA pointe fixe LU\n",
      "Total cost 21,164.63€ dont fixe 4,893.0€ , energie 16,271.63€ et 0.0€ de dépassement\n",
      "HTA pointe fixe CU\n",
      "Total cost 25,837.33€ dont fixe 798.0€ , energie 25,039.33€ et 0.0€ de dépassement\n",
      "\n",
      "\n"
     ]
    }
   ],
   "source": [
    "best_facturation = {}\n",
    "for letter in [\"A\",\"B\",\"C\",\"D\",\"E\",\"F\",\"G\"]:\n",
    "    print(\"Compteur\",letter)\n",
    "    best_facturation[letter]={}\n",
    "    best_price = np.inf\n",
    "    for duree in [\"LU\",\"CU\"]:\n",
    "        type_facturation =  f\"HTA pointe fixe {duree}\"\n",
    "        cost = compute_total_cost(letter,charges,res,type_facturation=type_facturation,verbose=1)\n",
    "        if type_facturation== res.loc[letter,\"Actuel : tarif\"]:\n",
    "            res.loc[letter,\"Actuel : Facture glissante (€ HT)\"]=round(cost,2)\n",
    "        if cost < best_price:\n",
    "            best_price=cost\n",
    "            best_facturation[letter][\"facturation\"]=type_facturation\n",
    "            best_facturation[letter][\"price\"]=best_price\n",
    "    print(\"\\n\")"
   ]
  },
  {
   "cell_type": "code",
   "execution_count": 21,
   "id": "05fcf3aa",
   "metadata": {
    "ExecuteTime": {
     "end_time": "2023-04-21T14:13:06.041796Z",
     "start_time": "2023-04-21T14:13:05.952171Z"
    },
    "tags": [
     "remove-input"
    ]
   },
   "outputs": [
    {
     "data": {
      "text/html": [
       "<div>\n",
       "<style scoped>\n",
       "    .dataframe tbody tr th:only-of-type {\n",
       "        vertical-align: middle;\n",
       "    }\n",
       "\n",
       "    .dataframe tbody tr th {\n",
       "        vertical-align: top;\n",
       "    }\n",
       "\n",
       "    .dataframe thead th {\n",
       "        text-align: right;\n",
       "    }\n",
       "</style>\n",
       "<table border=\"1\" class=\"dataframe\">\n",
       "  <thead>\n",
       "    <tr style=\"text-align: right;\">\n",
       "      <th></th>\n",
       "      <th>Actuel : Facture glissante (€ HT)</th>\n",
       "    </tr>\n",
       "    <tr>\n",
       "      <th>meter_id</th>\n",
       "      <th></th>\n",
       "    </tr>\n",
       "  </thead>\n",
       "  <tbody>\n",
       "    <tr>\n",
       "      <th>B</th>\n",
       "      <td>10318.37</td>\n",
       "    </tr>\n",
       "    <tr>\n",
       "      <th>D</th>\n",
       "      <td>5703.59</td>\n",
       "    </tr>\n",
       "    <tr>\n",
       "      <th>A</th>\n",
       "      <td>111651.36</td>\n",
       "    </tr>\n",
       "    <tr>\n",
       "      <th>G</th>\n",
       "      <td>21164.63</td>\n",
       "    </tr>\n",
       "    <tr>\n",
       "      <th>C</th>\n",
       "      <td>4843.89</td>\n",
       "    </tr>\n",
       "    <tr>\n",
       "      <th>E</th>\n",
       "      <td>11661.10</td>\n",
       "    </tr>\n",
       "    <tr>\n",
       "      <th>F</th>\n",
       "      <td>26085.93</td>\n",
       "    </tr>\n",
       "  </tbody>\n",
       "</table>\n",
       "</div>"
      ],
      "text/plain": [
       "          Actuel : Facture glissante (€ HT)\n",
       "meter_id                                   \n",
       "B                                  10318.37\n",
       "D                                   5703.59\n",
       "A                                 111651.36\n",
       "G                                  21164.63\n",
       "C                                   4843.89\n",
       "E                                  11661.10\n",
       "F                                  26085.93"
      ]
     },
     "execution_count": 21,
     "metadata": {},
     "output_type": "execute_result"
    }
   ],
   "source": [
    "res.loc[:,[\"Actuel : Facture glissante (€ HT)\"]]"
   ]
  },
  {
   "cell_type": "markdown",
   "id": "97f19b80",
   "metadata": {},
   "source": [
    "# Optimisation des couts"
   ]
  },
  {
   "cell_type": "markdown",
   "id": "d064f626",
   "metadata": {},
   "source": [
    "Méthode brute force naive : \n",
    "* On cherche le plus faible $PS_1$ en laissant tous les autres coefficents constant et en testant suivant un pas compris entre  1 & 10\n",
    "* On augmente ensuite graduelement les autres coefficients les uns après les autres pour vérifier s'ils entrainent une modification des couts"
   ]
  },
  {
   "cell_type": "code",
   "execution_count": 22,
   "id": "a67c8711",
   "metadata": {
    "ExecuteTime": {
     "end_time": "2023-04-21T14:20:23.730672Z",
     "start_time": "2023-04-21T14:13:06.069209Z"
    },
    "tags": [
     "remove-input"
    ]
   },
   "outputs": [
    {
     "name": "stdout",
     "output_type": "stream",
     "text": [
      "HTA pointe fixe LU\n",
      "HTA pointe fixe LU\n",
      "Total cost 106,020.38€ dont fixe 20,240.71€ , energie 85,122.06€ et 657.61€ de dépassement\n",
      "A [1241.0, 1241.0, 1241.0, 1241.0, 1241.0] 106020.38\n"
     ]
    },
    {
     "data": {
      "image/png": "[encoded data removed]",
      "text/plain": [
       "<Figure size 432x288 with 1 Axes>"
      ]
     },
     "metadata": {
      "needs_background": "light"
     },
     "output_type": "display_data"
    },
    {
     "name": "stdout",
     "output_type": "stream",
     "text": [
      "HTA pointe fixe CU\n",
      "HTA pointe fixe CU\n",
      "Total cost 3,829.05€ dont fixe 526.68€ , energie 3,223.02€ et 79.36€ de dépassement\n",
      "B [198.0, 198.0, 198.0, 198.0, 198.0] 3829.05\n"
     ]
    },
    {
     "data": {
      "image/png": "[encoded data removed]",
      "text/plain": [
       "<Figure size 432x288 with 1 Axes>"
      ]
     },
     "metadata": {
      "needs_background": "light"
     },
     "output_type": "display_data"
    },
    {
     "name": "stdout",
     "output_type": "stream",
     "text": [
      "HTA pointe fixe CU\n",
      "HTA pointe fixe CU\n",
      "Total cost 4,571.44€ dont fixe 279.3€ , energie 4,223.25€ et 68.9€ de dépassement\n",
      "C [105.0, 105.0, 105.0, 105.0, 105.0] 4571.44\n"
     ]
    },
    {
     "data": {
      "image/png": "[encoded data removed]",
      "text/plain": [
       "<Figure size 432x288 with 1 Axes>"
      ]
     },
     "metadata": {
      "needs_background": "light"
     },
     "output_type": "display_data"
    },
    {
     "name": "stdout",
     "output_type": "stream",
     "text": [
      "HTA pointe fixe CU\n",
      "HTA pointe fixe CU\n",
      "Total cost 5,596.21€ dont fixe 324.52€ , energie 5,223.76€ et 47.93€ de dépassement\n",
      "D [122.0, 122.0, 122.0, 122.0, 122.0] 5596.21\n"
     ]
    },
    {
     "data": {
      "image/png": "[encoded data removed]",
      "text/plain": [
       "<Figure size 432x288 with 1 Axes>"
      ]
     },
     "metadata": {
      "needs_background": "light"
     },
     "output_type": "display_data"
    },
    {
     "name": "stdout",
     "output_type": "stream",
     "text": [
      "HTA pointe fixe CU\n",
      "HTA pointe fixe CU\n",
      "Total cost 11,126.06€ dont fixe 242.06€ , energie 10,877.65€ et 6.34€ de dépassement\n",
      "E [91.0, 91.0, 91.0, 91.0, 91.0] 11126.06\n"
     ]
    },
    {
     "data": {
      "image/png": "[encoded data removed]",
      "text/plain": [
       "<Figure size 432x288 with 1 Axes>"
      ]
     },
     "metadata": {
      "needs_background": "light"
     },
     "output_type": "display_data"
    },
    {
     "name": "stdout",
     "output_type": "stream",
     "text": [
      "HTA pointe fixe CU\n",
      "HTA pointe fixe CU\n",
      "Total cost 21,907.63€ dont fixe 803.32€ , energie 20,912.16€ et 192.16€ de dépassement\n",
      "F [302.0, 302.0, 302.0, 302.0, 302.0] 21907.63\n"
     ]
    },
    {
     "data": {
      "image/png": "[encoded data removed]",
      "text/plain": [
       "<Figure size 432x288 with 1 Axes>"
      ]
     },
     "metadata": {
      "needs_background": "light"
     },
     "output_type": "display_data"
    },
    {
     "name": "stdout",
     "output_type": "stream",
     "text": [
      "HTA pointe fixe LU\n",
      "HTA pointe fixe LU\n",
      "Total cost 20,172.26€ dont fixe 3,702.37€ , energie 16,271.63€ et 198.26€ de dépassement\n",
      "G [227.0, 227.0, 227.0, 227.0, 227.0] 20172.26\n"
     ]
    },
    {
     "data": {
      "image/png": "[encoded data removed]",
      "text/plain": [
       "<Figure size 432x288 with 1 Axes>"
      ]
     },
     "metadata": {
      "needs_background": "light"
     },
     "output_type": "display_data"
    }
   ],
   "source": [
    "# Cette méthode Brute Force est une première approche naive car il n'est pas possible de minimizer avec scipy automatiquement une fonction non continue d'entiers (PS est une liste d'entiers)\n",
    "\n",
    "def optimize(letter:str\n",
    "            ,type_facturation:str\n",
    "            ,step=10):\n",
    "    f = lambda PS : compute_total_cost(letter,charges,res,PS=PS,verbose=0,type_facturation=type_facturation)\n",
    "\n",
    "    PS = [res.loc[letter,'Actuel : Puissance max atteinte Pointe']\n",
    "                        ,res.loc[letter,'Actuel : Puissance max atteinte HPH']\n",
    "                        ,res.loc[letter,'Actuel : Puissance max atteinte HCH']\n",
    "                        ,res.loc[letter,'Actuel : Puissance max atteinte HPE']\n",
    "                        ,res.loc[letter,'Actuel : Puissance max atteinte HCE']\n",
    "          ] \n",
    "    \n",
    "    #DEBUG\n",
    "    \n",
    "    dirs = [step,-step,0]\n",
    "    for k in range(1,5):\n",
    "        if PS[k]<PS[k-1]:\n",
    "            PS[k]=PS[k-1]\n",
    "    start = f(PS)\n",
    "    evo,params =[start],[PS]\n",
    "    i,j = 0,0\n",
    "    new = 0\n",
    "    optimize = True\n",
    "    \n",
    "    #Optimise PS1\n",
    "    while j<2:\n",
    "        PS[0]+=dirs[j]\n",
    "        for k in range(1,5):\n",
    "            PS[k]=PS[0]\n",
    "        new = f(PS)\n",
    "        evo.append(new)\n",
    "        params.append(PS)\n",
    "        #print(PS,new,start)\n",
    "        if new > start :\n",
    "            PS[0]-=dirs[j]\n",
    "            j+=1\n",
    "        if new <= start : \n",
    "            start = new\n",
    "            \n",
    "    j=0\n",
    "    for k in range(1,5):\n",
    "        if PS[k]<PS[i]:\n",
    "            PS[k]=PS[i]\n",
    "    #print(\"PS1 optimized\")\n",
    "    #print(start,PS,f(PS))\n",
    "    \n",
    "    \n",
    "    # optimize PS2\n",
    "    \n",
    "    PS = [PS[0] for i in range(5)]\n",
    "    \n",
    "    \n",
    "    for i in range(1,5):\n",
    "        BEST_PS=PS\n",
    "        optimize = True\n",
    "        while optimize == True:\n",
    "            for step in [1,5,10,50]:\n",
    "                PS[i]+=step\n",
    "                for k in range(i,5):\n",
    "                    if PS[k]<PS[i]:\n",
    "                        PS[k]=PS[i]\n",
    "                        \n",
    "                new = f(PS)\n",
    "                #print(PS,new,start)\n",
    "                evo.append(new)\n",
    "                params.append(PS)\n",
    "                #print(PS,new,start)\n",
    "            \n",
    "            new = min(evo[-4:])\n",
    "            \n",
    "            #print(start)\n",
    "            #print(evo[-4:])\n",
    "            #print(params[-4:])\n",
    "            \n",
    "            if new > start :\n",
    "                PS[i]-=step\n",
    "                PS = BEST_PS\n",
    "                optimize=False\n",
    "            if new <= start : \n",
    "                start = new\n",
    "                print(params[evo.index(new)],evo.index(new))\n",
    "                PS = params[evo.index(new)]\n",
    "\n",
    "\n",
    "    \n",
    "    return evo,params\n",
    "\n",
    "\n",
    "for letter in [\"A\",\"B\",\"C\",\"D\",\"E\",\"F\",\"G\"]:\n",
    "    type_facturation=best_facturation[letter][\"facturation\"]\n",
    "    print(type_facturation)\n",
    "    evo,params = optimize(letter,type_facturation,step=10)\n",
    "    PS = params[evo.index(min(evo))]\n",
    "    new_price= compute_total_cost(letter,charges,res,PS=PS\n",
    "                              ,verbose=1,type_facturation=type_facturation\n",
    "                              )\n",
    "    print(letter,PS\n",
    "          ,new_price\n",
    "         )\n",
    "    #print(\"old price \", best_facturation[letter][\"price\"])\n",
    "    \n",
    "    res.loc[letter,\"Préconisation : tarif\"]=type_facturation\n",
    "    res.loc[letter,\"Préconisation : Facture glissante (€ HT)\"]=new_price\n",
    "    res.loc[letter,\"Puissance souscrite pointe optimisée (kVA C4 / kW C3-C1)\"]=PS[0]\n",
    "    res.loc[letter,\"Puissance souscrite hph optimisée (kVA C4 / kW C3-C1)\"]=PS[1]\n",
    "    res.loc[letter,\"Puissance souscrite hch optimisée (kVA C4 / kW C3-C1)\"]=PS[2]\n",
    "    res.loc[letter,\"Puissance souscrite hpe optimisée (kVA C4 / kW C3-C1)\"]=PS[3]\n",
    "    res.loc[letter,\"Puissance souscrite hce optimisée (kVA C4 / kW C3-C1)\"]=PS[4]\n",
    "    res.loc[letter,\"Gains euros\"]=res.loc[letter,\"Actuel : Facture glissante (€ HT)\"]-new_price\n",
    "    \n",
    "    \n",
    "    \n",
    "    plt.plot(evo) \n",
    "    plt.xlabel(\"Steps\")\n",
    "    plt.ylabel(\"Price €\")\n",
    "    plt.title(\"Evolution du prix lors de l'optimisation\")\n",
    "    plt.show()"
   ]
  },
  {
   "cell_type": "code",
   "execution_count": 27,
   "id": "897f8e69",
   "metadata": {
    "ExecuteTime": {
     "end_time": "2023-04-21T14:25:39.480736Z",
     "start_time": "2023-04-21T14:25:39.410492Z"
    }
   },
   "outputs": [
    {
     "data": {
      "text/html": [
       "<div>\n",
       "<style scoped>\n",
       "    .dataframe tbody tr th:only-of-type {\n",
       "        vertical-align: middle;\n",
       "    }\n",
       "\n",
       "    .dataframe tbody tr th {\n",
       "        vertical-align: top;\n",
       "    }\n",
       "\n",
       "    .dataframe thead th {\n",
       "        text-align: right;\n",
       "    }\n",
       "</style>\n",
       "<table border=\"1\" class=\"dataframe\">\n",
       "  <thead>\n",
       "    <tr style=\"text-align: right;\">\n",
       "      <th></th>\n",
       "      <th>Code postal</th>\n",
       "      <th>Date de début</th>\n",
       "      <th>Date de fin</th>\n",
       "      <th>Actuel : tarif</th>\n",
       "      <th>Actuel : Facture glissante (€ HT)</th>\n",
       "      <th>Actuel : Puissance souscrite POINTE</th>\n",
       "      <th>Puissance souscrite hph actuelle (kVA C4 / kW C3-C1)</th>\n",
       "      <th>Puissance souscrite hch actuelle (kVA C4 / kW C3-C1)</th>\n",
       "      <th>Puissance souscrite hpe actuelle (kVA C4 / kW C3-C1)</th>\n",
       "      <th>Puissance souscrite hce actuelle (kVA C4 / kW C3-C1)</th>\n",
       "      <th>...</th>\n",
       "      <th>Consommation kwh hph réelle</th>\n",
       "      <th>Actuel : Consommation POINTE (kWh)</th>\n",
       "      <th>Préconisation : tarif</th>\n",
       "      <th>Préconisation : Facture glissante (€ HT)</th>\n",
       "      <th>Puissance souscrite pointe optimisée (kVA C4 / kW C3-C1)</th>\n",
       "      <th>Puissance souscrite hph optimisée (kVA C4 / kW C3-C1)</th>\n",
       "      <th>Puissance souscrite hch optimisée (kVA C4 / kW C3-C1)</th>\n",
       "      <th>Puissance souscrite hpe optimisée (kVA C4 / kW C3-C1)</th>\n",
       "      <th>Puissance souscrite hce optimisée (kVA C4 / kW C3-C1)</th>\n",
       "      <th>Gains euros</th>\n",
       "    </tr>\n",
       "    <tr>\n",
       "      <th>meter_id</th>\n",
       "      <th></th>\n",
       "      <th></th>\n",
       "      <th></th>\n",
       "      <th></th>\n",
       "      <th></th>\n",
       "      <th></th>\n",
       "      <th></th>\n",
       "      <th></th>\n",
       "      <th></th>\n",
       "      <th></th>\n",
       "      <th></th>\n",
       "      <th></th>\n",
       "      <th></th>\n",
       "      <th></th>\n",
       "      <th></th>\n",
       "      <th></th>\n",
       "      <th></th>\n",
       "      <th></th>\n",
       "      <th></th>\n",
       "      <th></th>\n",
       "      <th></th>\n",
       "    </tr>\n",
       "  </thead>\n",
       "  <tbody>\n",
       "    <tr>\n",
       "      <th>B</th>\n",
       "      <td>39015</td>\n",
       "      <td>2022-03-23 00:00:00</td>\n",
       "      <td>2023-02-23 23:50:00</td>\n",
       "      <td>HTA pointe fixe LU</td>\n",
       "      <td>10318.37</td>\n",
       "      <td>500</td>\n",
       "      <td>500</td>\n",
       "      <td>500</td>\n",
       "      <td>500</td>\n",
       "      <td>500</td>\n",
       "      <td>...</td>\n",
       "      <td>2.994567e+04</td>\n",
       "      <td>8063.166667</td>\n",
       "      <td>HTA pointe fixe CU</td>\n",
       "      <td>3829.05</td>\n",
       "      <td>198.0</td>\n",
       "      <td>198.0</td>\n",
       "      <td>198.0</td>\n",
       "      <td>198.0</td>\n",
       "      <td>198.0</td>\n",
       "      <td>6489.32</td>\n",
       "    </tr>\n",
       "    <tr>\n",
       "      <th>D</th>\n",
       "      <td>58220</td>\n",
       "      <td>2022-03-23 00:00:00</td>\n",
       "      <td>2023-02-23 23:50:00</td>\n",
       "      <td>HTA pointe fixe LU</td>\n",
       "      <td>5703.59</td>\n",
       "      <td>130</td>\n",
       "      <td>130</td>\n",
       "      <td>130</td>\n",
       "      <td>130</td>\n",
       "      <td>130</td>\n",
       "      <td>...</td>\n",
       "      <td>5.346917e+04</td>\n",
       "      <td>14194.000000</td>\n",
       "      <td>HTA pointe fixe CU</td>\n",
       "      <td>5596.21</td>\n",
       "      <td>122.0</td>\n",
       "      <td>122.0</td>\n",
       "      <td>122.0</td>\n",
       "      <td>122.0</td>\n",
       "      <td>122.0</td>\n",
       "      <td>107.38</td>\n",
       "    </tr>\n",
       "    <tr>\n",
       "      <th>A</th>\n",
       "      <td>58000</td>\n",
       "      <td>2022-03-23 00:00:00</td>\n",
       "      <td>2023-02-23 23:50:00</td>\n",
       "      <td>HTA pointe fixe LU</td>\n",
       "      <td>111651.36</td>\n",
       "      <td>1530</td>\n",
       "      <td>1530</td>\n",
       "      <td>1530</td>\n",
       "      <td>1710</td>\n",
       "      <td>1710</td>\n",
       "      <td>...</td>\n",
       "      <td>1.114749e+06</td>\n",
       "      <td>233570.166667</td>\n",
       "      <td>HTA pointe fixe LU</td>\n",
       "      <td>106020.38</td>\n",
       "      <td>1241.0</td>\n",
       "      <td>1241.0</td>\n",
       "      <td>1241.0</td>\n",
       "      <td>1241.0</td>\n",
       "      <td>1241.0</td>\n",
       "      <td>5630.98</td>\n",
       "    </tr>\n",
       "    <tr>\n",
       "      <th>G</th>\n",
       "      <td>25600</td>\n",
       "      <td>2022-03-23 00:00:00</td>\n",
       "      <td>2023-02-23 23:50:00</td>\n",
       "      <td>HTA pointe fixe LU</td>\n",
       "      <td>21164.63</td>\n",
       "      <td>300</td>\n",
       "      <td>300</td>\n",
       "      <td>300</td>\n",
       "      <td>300</td>\n",
       "      <td>300</td>\n",
       "      <td>...</td>\n",
       "      <td>2.002252e+05</td>\n",
       "      <td>42837.333333</td>\n",
       "      <td>HTA pointe fixe LU</td>\n",
       "      <td>20172.26</td>\n",
       "      <td>227.0</td>\n",
       "      <td>227.0</td>\n",
       "      <td>227.0</td>\n",
       "      <td>227.0</td>\n",
       "      <td>227.0</td>\n",
       "      <td>992.37</td>\n",
       "    </tr>\n",
       "    <tr>\n",
       "      <th>C</th>\n",
       "      <td>58230</td>\n",
       "      <td>2022-03-23 00:00:00</td>\n",
       "      <td>2023-02-23 23:50:00</td>\n",
       "      <td>HTA pointe fixe CU</td>\n",
       "      <td>4843.89</td>\n",
       "      <td>61</td>\n",
       "      <td>61</td>\n",
       "      <td>61</td>\n",
       "      <td>61</td>\n",
       "      <td>61</td>\n",
       "      <td>...</td>\n",
       "      <td>4.323550e+04</td>\n",
       "      <td>10488.833333</td>\n",
       "      <td>HTA pointe fixe CU</td>\n",
       "      <td>4571.44</td>\n",
       "      <td>105.0</td>\n",
       "      <td>105.0</td>\n",
       "      <td>105.0</td>\n",
       "      <td>105.0</td>\n",
       "      <td>105.0</td>\n",
       "      <td>272.45</td>\n",
       "    </tr>\n",
       "    <tr>\n",
       "      <th>E</th>\n",
       "      <td>25290</td>\n",
       "      <td>2022-03-23 00:00:00</td>\n",
       "      <td>2023-02-23 23:50:00</td>\n",
       "      <td>HTA pointe fixe CU</td>\n",
       "      <td>11661.10</td>\n",
       "      <td>123</td>\n",
       "      <td>123</td>\n",
       "      <td>350</td>\n",
       "      <td>350</td>\n",
       "      <td>350</td>\n",
       "      <td>...</td>\n",
       "      <td>8.186783e+04</td>\n",
       "      <td>17311.166667</td>\n",
       "      <td>HTA pointe fixe CU</td>\n",
       "      <td>11126.06</td>\n",
       "      <td>91.0</td>\n",
       "      <td>91.0</td>\n",
       "      <td>91.0</td>\n",
       "      <td>91.0</td>\n",
       "      <td>91.0</td>\n",
       "      <td>535.04</td>\n",
       "    </tr>\n",
       "    <tr>\n",
       "      <th>F</th>\n",
       "      <td>90000</td>\n",
       "      <td>2022-03-23 00:00:00</td>\n",
       "      <td>2023-02-23 23:50:00</td>\n",
       "      <td>HTA pointe fixe LU</td>\n",
       "      <td>26085.93</td>\n",
       "      <td>66</td>\n",
       "      <td>410</td>\n",
       "      <td>410</td>\n",
       "      <td>410</td>\n",
       "      <td>410</td>\n",
       "      <td>...</td>\n",
       "      <td>1.742085e+05</td>\n",
       "      <td>21112.000000</td>\n",
       "      <td>HTA pointe fixe CU</td>\n",
       "      <td>21907.63</td>\n",
       "      <td>302.0</td>\n",
       "      <td>302.0</td>\n",
       "      <td>302.0</td>\n",
       "      <td>302.0</td>\n",
       "      <td>302.0</td>\n",
       "      <td>4178.30</td>\n",
       "    </tr>\n",
       "  </tbody>\n",
       "</table>\n",
       "<p>7 rows × 28 columns</p>\n",
       "</div>"
      ],
      "text/plain": [
       "          Code postal        Date de début          Date de fin  \\\n",
       "meter_id                                                          \n",
       "B               39015  2022-03-23 00:00:00  2023-02-23 23:50:00   \n",
       "D               58220  2022-03-23 00:00:00  2023-02-23 23:50:00   \n",
       "A               58000  2022-03-23 00:00:00  2023-02-23 23:50:00   \n",
       "G               25600  2022-03-23 00:00:00  2023-02-23 23:50:00   \n",
       "C               58230  2022-03-23 00:00:00  2023-02-23 23:50:00   \n",
       "E               25290  2022-03-23 00:00:00  2023-02-23 23:50:00   \n",
       "F               90000  2022-03-23 00:00:00  2023-02-23 23:50:00   \n",
       "\n",
       "              Actuel : tarif  Actuel : Facture glissante (€ HT)  \\\n",
       "meter_id                                                          \n",
       "B         HTA pointe fixe LU                           10318.37   \n",
       "D         HTA pointe fixe LU                            5703.59   \n",
       "A         HTA pointe fixe LU                          111651.36   \n",
       "G         HTA pointe fixe LU                           21164.63   \n",
       "C         HTA pointe fixe CU                            4843.89   \n",
       "E         HTA pointe fixe CU                           11661.10   \n",
       "F         HTA pointe fixe LU                           26085.93   \n",
       "\n",
       "          Actuel : Puissance souscrite POINTE  \\\n",
       "meter_id                                        \n",
       "B                                         500   \n",
       "D                                         130   \n",
       "A                                        1530   \n",
       "G                                         300   \n",
       "C                                          61   \n",
       "E                                         123   \n",
       "F                                          66   \n",
       "\n",
       "          Puissance souscrite hph actuelle (kVA C4 / kW C3-C1)  \\\n",
       "meter_id                                                         \n",
       "B                                                       500      \n",
       "D                                                       130      \n",
       "A                                                      1530      \n",
       "G                                                       300      \n",
       "C                                                        61      \n",
       "E                                                       123      \n",
       "F                                                       410      \n",
       "\n",
       "          Puissance souscrite hch actuelle (kVA C4 / kW C3-C1)  \\\n",
       "meter_id                                                         \n",
       "B                                                       500      \n",
       "D                                                       130      \n",
       "A                                                      1530      \n",
       "G                                                       300      \n",
       "C                                                        61      \n",
       "E                                                       350      \n",
       "F                                                       410      \n",
       "\n",
       "          Puissance souscrite hpe actuelle (kVA C4 / kW C3-C1)  \\\n",
       "meter_id                                                         \n",
       "B                                                       500      \n",
       "D                                                       130      \n",
       "A                                                      1710      \n",
       "G                                                       300      \n",
       "C                                                        61      \n",
       "E                                                       350      \n",
       "F                                                       410      \n",
       "\n",
       "          Puissance souscrite hce actuelle (kVA C4 / kW C3-C1)  ...  \\\n",
       "meter_id                                                        ...   \n",
       "B                                                       500     ...   \n",
       "D                                                       130     ...   \n",
       "A                                                      1710     ...   \n",
       "G                                                       300     ...   \n",
       "C                                                        61     ...   \n",
       "E                                                       350     ...   \n",
       "F                                                       410     ...   \n",
       "\n",
       "          Consommation kwh hph réelle  Actuel : Consommation POINTE (kWh)  \\\n",
       "meter_id                                                                    \n",
       "B                        2.994567e+04                         8063.166667   \n",
       "D                        5.346917e+04                        14194.000000   \n",
       "A                        1.114749e+06                       233570.166667   \n",
       "G                        2.002252e+05                        42837.333333   \n",
       "C                        4.323550e+04                        10488.833333   \n",
       "E                        8.186783e+04                        17311.166667   \n",
       "F                        1.742085e+05                        21112.000000   \n",
       "\n",
       "          Préconisation : tarif  Préconisation : Facture glissante (€ HT)  \\\n",
       "meter_id                                                                    \n",
       "B            HTA pointe fixe CU                                   3829.05   \n",
       "D            HTA pointe fixe CU                                   5596.21   \n",
       "A            HTA pointe fixe LU                                 106020.38   \n",
       "G            HTA pointe fixe LU                                  20172.26   \n",
       "C            HTA pointe fixe CU                                   4571.44   \n",
       "E            HTA pointe fixe CU                                  11126.06   \n",
       "F            HTA pointe fixe CU                                  21907.63   \n",
       "\n",
       "          Puissance souscrite pointe optimisée (kVA C4 / kW C3-C1)  \\\n",
       "meter_id                                                             \n",
       "B                                                     198.0          \n",
       "D                                                     122.0          \n",
       "A                                                    1241.0          \n",
       "G                                                     227.0          \n",
       "C                                                     105.0          \n",
       "E                                                      91.0          \n",
       "F                                                     302.0          \n",
       "\n",
       "          Puissance souscrite hph optimisée (kVA C4 / kW C3-C1)  \\\n",
       "meter_id                                                          \n",
       "B                                                     198.0       \n",
       "D                                                     122.0       \n",
       "A                                                    1241.0       \n",
       "G                                                     227.0       \n",
       "C                                                     105.0       \n",
       "E                                                      91.0       \n",
       "F                                                     302.0       \n",
       "\n",
       "          Puissance souscrite hch optimisée (kVA C4 / kW C3-C1)  \\\n",
       "meter_id                                                          \n",
       "B                                                     198.0       \n",
       "D                                                     122.0       \n",
       "A                                                    1241.0       \n",
       "G                                                     227.0       \n",
       "C                                                     105.0       \n",
       "E                                                      91.0       \n",
       "F                                                     302.0       \n",
       "\n",
       "          Puissance souscrite hpe optimisée (kVA C4 / kW C3-C1)  \\\n",
       "meter_id                                                          \n",
       "B                                                     198.0       \n",
       "D                                                     122.0       \n",
       "A                                                    1241.0       \n",
       "G                                                     227.0       \n",
       "C                                                     105.0       \n",
       "E                                                      91.0       \n",
       "F                                                     302.0       \n",
       "\n",
       "          Puissance souscrite hce optimisée (kVA C4 / kW C3-C1)  Gains euros  \n",
       "meter_id                                                                      \n",
       "B                                                     198.0          6489.32  \n",
       "D                                                     122.0           107.38  \n",
       "A                                                    1241.0          5630.98  \n",
       "G                                                     227.0           992.37  \n",
       "C                                                     105.0           272.45  \n",
       "E                                                      91.0           535.04  \n",
       "F                                                     302.0          4178.30  \n",
       "\n",
       "[7 rows x 28 columns]"
      ]
     },
     "execution_count": 27,
     "metadata": {},
     "output_type": "execute_result"
    }
   ],
   "source": [
    "res"
   ]
  },
  {
   "cell_type": "code",
   "execution_count": 26,
   "id": "00f834c0",
   "metadata": {
    "ExecuteTime": {
     "end_time": "2023-04-21T14:23:11.118822Z",
     "start_time": "2023-04-21T14:23:11.004206Z"
    }
   },
   "outputs": [],
   "source": [
    "res.to_excel(\"template_updated.xlsx\")"
   ]
  },
  {
   "cell_type": "markdown",
   "id": "0e4beeff",
   "metadata": {},
   "source": [
    "# Conclusion"
   ]
  },
  {
   "cell_type": "markdown",
   "id": "6a07234e",
   "metadata": {},
   "source": [
    "La méthode d'optimisation employée est limité par son pas est ne peut aboutir à des résultats très satisfaisant.  \n",
    "On obtient une minimisation de tout les $PS_i$ en même temps\n",
    "Pour aller plus loin :\n",
    "* tester d'autres méthodes [Scipy continuous methods](https://docs.scipy.org/doc/scipy/reference/optimize.html)\n",
    "* Avoir des données labelisées pour vérifier les résultats des fonctions de calculs de couts \n",
    "* Prendre en compte une possible augmentation des besoins d'energie d'une année à l'autres (5-15%) et proposer un tarif et des seuils optimisés pour cette augmentation"
   ]
  },
  {
   "cell_type": "code",
   "execution_count": null,
   "id": "80b9befd",
   "metadata": {},
   "outputs": [],
   "source": []
  }
 ],
 "metadata": {
  "celltoolbar": "Tags",
  "kernelspec": {
   "display_name": "Python 3 (ipykernel)",
   "language": "python",
   "name": "python3"
  },
  "language_info": {
   "codemirror_mode": {
    "name": "ipython",
    "version": 3
   },
   "file_extension": ".py",
   "mimetype": "text/x-python",
   "name": "python",
   "nbconvert_exporter": "python",
   "pygments_lexer": "ipython3",
   "version": "3.8.12"
  },
  "toc": {
   "base_numbering": 1,
   "nav_menu": {},
   "number_sections": true,
   "sideBar": true,
   "skip_h1_title": false,
   "title_cell": "Table of Contents",
   "title_sidebar": "Contents",
   "toc_cell": false,
   "toc_position": {},
   "toc_section_display": true,
   "toc_window_display": true
  }
 },
 "nbformat": 4,
 "nbformat_minor": 5
}
